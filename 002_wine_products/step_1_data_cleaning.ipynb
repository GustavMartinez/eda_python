{
 "cells": [
  {
   "cell_type": "markdown",
   "id": "12d482bc",
   "metadata": {},
   "source": [
    "# Limpieza y preparación de los datos\n",
    "&emsp;&emsp;_Limpeza e preparação de dados com pandas_"
   ]
  },
  {
   "cell_type": "markdown",
   "id": "a3189fa0",
   "metadata": {},
   "source": [
    "## Importar la libreria y cargar los datos\n",
    "&emsp;&emsp;_Importar a biblioteca e carregar os dados_"
   ]
  },
  {
   "cell_type": "code",
   "execution_count": 1,
   "id": "f0775537",
   "metadata": {},
   "outputs": [],
   "source": [
    "# Importar la libreria - Importar biblioteca\n",
    "\n",
    "import pandas as pd\n",
    "import matplotlib.pyplot as plt\n",
    "import seaborn as sns"
   ]
  },
  {
   "cell_type": "markdown",
   "id": "9aead54e",
   "metadata": {},
   "source": [
    "* Este dataset es sobre calificaciones, precios, países y calificaciones de diferentes vinos en el mundo.\n",
    "* _Este conjunto de dados é sobre pontuações, preços, países e avaliações de diferentes vinhos ao redor do mundo._"
   ]
  },
  {
   "cell_type": "code",
   "execution_count": null,
   "id": "cd245a0f",
   "metadata": {},
   "outputs": [],
   "source": []
  }
 ],
 "metadata": {
  "kernelspec": {
   "display_name": "eda_env",
   "language": "python",
   "name": "python3"
  },
  "language_info": {
   "codemirror_mode": {
    "name": "ipython",
    "version": 3
   },
   "file_extension": ".py",
   "mimetype": "text/x-python",
   "name": "python",
   "nbconvert_exporter": "python",
   "pygments_lexer": "ipython3",
   "version": "3.11.2"
  }
 },
 "nbformat": 4,
 "nbformat_minor": 5
}
