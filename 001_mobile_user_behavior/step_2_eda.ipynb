{
 "cells": [
  {
   "cell_type": "markdown",
   "id": "b86cb02a",
   "metadata": {},
   "source": [
    "# EDA - Mobile User Behavior\n",
    "\n",
    "- #### Estadística descriptiva\n",
    "- #### Análisis univariado\n",
    "- #### Análisis bivariado\n",
    "- #### Análisis multivariado exploratório"
   ]
  },
  {
   "cell_type": "markdown",
   "id": "3500cc10",
   "metadata": {},
   "source": [
    "## Importar librerias y cargar los datos"
   ]
  },
  {
   "cell_type": "code",
   "execution_count": 1,
   "id": "11032478",
   "metadata": {},
   "outputs": [],
   "source": [
    "# Importar librerias\n",
    "\n",
    "import pandas as pd\n",
    "import numpy as np\n",
    "import matplotlib.pyplot as plt\n",
    "import seaborn as sns"
   ]
  },
  {
   "cell_type": "code",
   "execution_count": 2,
   "id": "86b69d8d",
   "metadata": {},
   "outputs": [],
   "source": [
    "# Cargar los datos\n",
    "\n",
    "dataset = pd.read_csv(\"user_behavior_dataset_clean.csv\")"
   ]
  },
  {
   "cell_type": "markdown",
   "id": "5fda2e8c",
   "metadata": {},
   "source": [
    "### Vista general del dataset\n",
    "\n",
    "Visualizar todas las columnas y algunas metricas básicas"
   ]
  },
  {
   "cell_type": "code",
   "execution_count": 3,
   "id": "6b201094",
   "metadata": {},
   "outputs": [
    {
     "data": {
      "text/html": [
       "<div>\n",
       "<style scoped>\n",
       "    .dataframe tbody tr th:only-of-type {\n",
       "        vertical-align: middle;\n",
       "    }\n",
       "\n",
       "    .dataframe tbody tr th {\n",
       "        vertical-align: top;\n",
       "    }\n",
       "\n",
       "    .dataframe thead th {\n",
       "        text-align: right;\n",
       "    }\n",
       "</style>\n",
       "<table border=\"1\" class=\"dataframe\">\n",
       "  <thead>\n",
       "    <tr style=\"text-align: right;\">\n",
       "      <th></th>\n",
       "      <th>count</th>\n",
       "      <th>unique</th>\n",
       "      <th>top</th>\n",
       "      <th>freq</th>\n",
       "      <th>mean</th>\n",
       "      <th>std</th>\n",
       "      <th>min</th>\n",
       "      <th>25%</th>\n",
       "      <th>50%</th>\n",
       "      <th>75%</th>\n",
       "      <th>max</th>\n",
       "    </tr>\n",
       "  </thead>\n",
       "  <tbody>\n",
       "    <tr>\n",
       "      <th>user_id</th>\n",
       "      <td>700.0</td>\n",
       "      <td>NaN</td>\n",
       "      <td>NaN</td>\n",
       "      <td>NaN</td>\n",
       "      <td>350.5</td>\n",
       "      <td>202.21688</td>\n",
       "      <td>1.0</td>\n",
       "      <td>175.75</td>\n",
       "      <td>350.5</td>\n",
       "      <td>525.25</td>\n",
       "      <td>700.0</td>\n",
       "    </tr>\n",
       "    <tr>\n",
       "      <th>device_model</th>\n",
       "      <td>700</td>\n",
       "      <td>5</td>\n",
       "      <td>Xiaomi Mi 11</td>\n",
       "      <td>146</td>\n",
       "      <td>NaN</td>\n",
       "      <td>NaN</td>\n",
       "      <td>NaN</td>\n",
       "      <td>NaN</td>\n",
       "      <td>NaN</td>\n",
       "      <td>NaN</td>\n",
       "      <td>NaN</td>\n",
       "    </tr>\n",
       "    <tr>\n",
       "      <th>operating_system</th>\n",
       "      <td>700</td>\n",
       "      <td>2</td>\n",
       "      <td>Android</td>\n",
       "      <td>554</td>\n",
       "      <td>NaN</td>\n",
       "      <td>NaN</td>\n",
       "      <td>NaN</td>\n",
       "      <td>NaN</td>\n",
       "      <td>NaN</td>\n",
       "      <td>NaN</td>\n",
       "      <td>NaN</td>\n",
       "    </tr>\n",
       "    <tr>\n",
       "      <th>app_usage_time_(min/day)</th>\n",
       "      <td>700.0</td>\n",
       "      <td>NaN</td>\n",
       "      <td>NaN</td>\n",
       "      <td>NaN</td>\n",
       "      <td>271.128571</td>\n",
       "      <td>177.199484</td>\n",
       "      <td>30.0</td>\n",
       "      <td>113.25</td>\n",
       "      <td>227.5</td>\n",
       "      <td>434.25</td>\n",
       "      <td>598.0</td>\n",
       "    </tr>\n",
       "    <tr>\n",
       "      <th>screen_on_time_(hours/day)</th>\n",
       "      <td>700.0</td>\n",
       "      <td>NaN</td>\n",
       "      <td>NaN</td>\n",
       "      <td>NaN</td>\n",
       "      <td>5.272714</td>\n",
       "      <td>3.068584</td>\n",
       "      <td>1.0</td>\n",
       "      <td>2.5</td>\n",
       "      <td>4.9</td>\n",
       "      <td>7.4</td>\n",
       "      <td>12.0</td>\n",
       "    </tr>\n",
       "    <tr>\n",
       "      <th>battery_drain_(mah/day)</th>\n",
       "      <td>700.0</td>\n",
       "      <td>NaN</td>\n",
       "      <td>NaN</td>\n",
       "      <td>NaN</td>\n",
       "      <td>1525.158571</td>\n",
       "      <td>819.136414</td>\n",
       "      <td>302.0</td>\n",
       "      <td>722.25</td>\n",
       "      <td>1502.5</td>\n",
       "      <td>2229.5</td>\n",
       "      <td>2993.0</td>\n",
       "    </tr>\n",
       "    <tr>\n",
       "      <th>number_of_apps_installed</th>\n",
       "      <td>700.0</td>\n",
       "      <td>NaN</td>\n",
       "      <td>NaN</td>\n",
       "      <td>NaN</td>\n",
       "      <td>50.681429</td>\n",
       "      <td>26.943324</td>\n",
       "      <td>10.0</td>\n",
       "      <td>26.0</td>\n",
       "      <td>49.0</td>\n",
       "      <td>74.0</td>\n",
       "      <td>99.0</td>\n",
       "    </tr>\n",
       "    <tr>\n",
       "      <th>data_usage_(mb/day)</th>\n",
       "      <td>700.0</td>\n",
       "      <td>NaN</td>\n",
       "      <td>NaN</td>\n",
       "      <td>NaN</td>\n",
       "      <td>929.742857</td>\n",
       "      <td>640.451729</td>\n",
       "      <td>102.0</td>\n",
       "      <td>373.0</td>\n",
       "      <td>823.5</td>\n",
       "      <td>1341.0</td>\n",
       "      <td>2497.0</td>\n",
       "    </tr>\n",
       "    <tr>\n",
       "      <th>age</th>\n",
       "      <td>700.0</td>\n",
       "      <td>NaN</td>\n",
       "      <td>NaN</td>\n",
       "      <td>NaN</td>\n",
       "      <td>38.482857</td>\n",
       "      <td>12.012916</td>\n",
       "      <td>18.0</td>\n",
       "      <td>28.0</td>\n",
       "      <td>38.0</td>\n",
       "      <td>49.0</td>\n",
       "      <td>59.0</td>\n",
       "    </tr>\n",
       "    <tr>\n",
       "      <th>gender</th>\n",
       "      <td>700</td>\n",
       "      <td>2</td>\n",
       "      <td>Male</td>\n",
       "      <td>364</td>\n",
       "      <td>NaN</td>\n",
       "      <td>NaN</td>\n",
       "      <td>NaN</td>\n",
       "      <td>NaN</td>\n",
       "      <td>NaN</td>\n",
       "      <td>NaN</td>\n",
       "      <td>NaN</td>\n",
       "    </tr>\n",
       "    <tr>\n",
       "      <th>user_behavior_class</th>\n",
       "      <td>700.0</td>\n",
       "      <td>NaN</td>\n",
       "      <td>NaN</td>\n",
       "      <td>NaN</td>\n",
       "      <td>2.99</td>\n",
       "      <td>1.401476</td>\n",
       "      <td>1.0</td>\n",
       "      <td>2.0</td>\n",
       "      <td>3.0</td>\n",
       "      <td>4.0</td>\n",
       "      <td>5.0</td>\n",
       "    </tr>\n",
       "    <tr>\n",
       "      <th>defined_behavior</th>\n",
       "      <td>700</td>\n",
       "      <td>5</td>\n",
       "      <td>Low</td>\n",
       "      <td>146</td>\n",
       "      <td>NaN</td>\n",
       "      <td>NaN</td>\n",
       "      <td>NaN</td>\n",
       "      <td>NaN</td>\n",
       "      <td>NaN</td>\n",
       "      <td>NaN</td>\n",
       "      <td>NaN</td>\n",
       "    </tr>\n",
       "  </tbody>\n",
       "</table>\n",
       "</div>"
      ],
      "text/plain": [
       "                            count unique           top freq         mean  \\\n",
       "user_id                     700.0    NaN           NaN  NaN        350.5   \n",
       "device_model                  700      5  Xiaomi Mi 11  146          NaN   \n",
       "operating_system              700      2       Android  554          NaN   \n",
       "app_usage_time_(min/day)    700.0    NaN           NaN  NaN   271.128571   \n",
       "screen_on_time_(hours/day)  700.0    NaN           NaN  NaN     5.272714   \n",
       "battery_drain_(mah/day)     700.0    NaN           NaN  NaN  1525.158571   \n",
       "number_of_apps_installed    700.0    NaN           NaN  NaN    50.681429   \n",
       "data_usage_(mb/day)         700.0    NaN           NaN  NaN   929.742857   \n",
       "age                         700.0    NaN           NaN  NaN    38.482857   \n",
       "gender                        700      2          Male  364          NaN   \n",
       "user_behavior_class         700.0    NaN           NaN  NaN         2.99   \n",
       "defined_behavior              700      5           Low  146          NaN   \n",
       "\n",
       "                                   std    min     25%     50%     75%     max  \n",
       "user_id                      202.21688    1.0  175.75   350.5  525.25   700.0  \n",
       "device_model                       NaN    NaN     NaN     NaN     NaN     NaN  \n",
       "operating_system                   NaN    NaN     NaN     NaN     NaN     NaN  \n",
       "app_usage_time_(min/day)    177.199484   30.0  113.25   227.5  434.25   598.0  \n",
       "screen_on_time_(hours/day)    3.068584    1.0     2.5     4.9     7.4    12.0  \n",
       "battery_drain_(mah/day)     819.136414  302.0  722.25  1502.5  2229.5  2993.0  \n",
       "number_of_apps_installed     26.943324   10.0    26.0    49.0    74.0    99.0  \n",
       "data_usage_(mb/day)         640.451729  102.0   373.0   823.5  1341.0  2497.0  \n",
       "age                          12.012916   18.0    28.0    38.0    49.0    59.0  \n",
       "gender                             NaN    NaN     NaN     NaN     NaN     NaN  \n",
       "user_behavior_class           1.401476    1.0     2.0     3.0     4.0     5.0  \n",
       "defined_behavior                   NaN    NaN     NaN     NaN     NaN     NaN  "
      ]
     },
     "execution_count": 3,
     "metadata": {},
     "output_type": "execute_result"
    }
   ],
   "source": [
    "dataset.describe(include=\"all\").T"
   ]
  },
  {
   "cell_type": "markdown",
   "id": "37dbe3b3",
   "metadata": {},
   "source": [
    "## Estadística descriptiva (información general del dataset)"
   ]
  },
  {
   "cell_type": "markdown",
   "id": "40aa075f",
   "metadata": {},
   "source": [
    "#### Média de las columnas numericas\n",
    "\n",
    "Definición: Es el valor promedio de un conjunto de datos; representa una medida general \tde tendencia central. Se obtiene al sumar todos los valores y dividirlos entre la \tcantidad de elementos."
   ]
  },
  {
   "cell_type": "code",
   "execution_count": 4,
   "id": "f6f6006a",
   "metadata": {},
   "outputs": [
    {
     "data": {
      "text/plain": [
       "user_id                        350.500000\n",
       "app_usage_time_(min/day)       271.128571\n",
       "screen_on_time_(hours/day)       5.272714\n",
       "battery_drain_(mah/day)       1525.158571\n",
       "number_of_apps_installed        50.681429\n",
       "data_usage_(mb/day)            929.742857\n",
       "age                             38.482857\n",
       "user_behavior_class              2.990000\n",
       "dtype: float64"
      ]
     },
     "execution_count": 4,
     "metadata": {},
     "output_type": "execute_result"
    }
   ],
   "source": [
    "# Calcular média solamente de las columnas numéricas\n",
    "dataset.select_dtypes(include='number').mean()"
   ]
  },
  {
   "cell_type": "markdown",
   "id": "5a92b0d4",
   "metadata": {},
   "source": [
    "#### Moda de las columnas numéricas\n",
    "\n",
    "Es el valor que más veces se repite en el conjunto de datos. Puede haber más \tde una moda (bimodal, multimodal) o ninguna. Es útil para identificar los valores más \tcomunes o frecuentes."
   ]
  },
  {
   "cell_type": "code",
   "execution_count": 14,
   "id": "51019087",
   "metadata": {},
   "outputs": [
    {
     "data": {
      "text/html": [
       "<div>\n",
       "<style scoped>\n",
       "    .dataframe tbody tr th:only-of-type {\n",
       "        vertical-align: middle;\n",
       "    }\n",
       "\n",
       "    .dataframe tbody tr th {\n",
       "        vertical-align: top;\n",
       "    }\n",
       "\n",
       "    .dataframe thead th {\n",
       "        text-align: right;\n",
       "    }\n",
       "</style>\n",
       "<table border=\"1\" class=\"dataframe\">\n",
       "  <thead>\n",
       "    <tr style=\"text-align: right;\">\n",
       "      <th></th>\n",
       "      <th>0</th>\n",
       "      <th>1</th>\n",
       "    </tr>\n",
       "  </thead>\n",
       "  <tbody>\n",
       "    <tr>\n",
       "      <th>app_usage_time_(min/day)</th>\n",
       "      <td>64.0</td>\n",
       "      <td>NaN</td>\n",
       "    </tr>\n",
       "    <tr>\n",
       "      <th>screen_on_time_(hours/day)</th>\n",
       "      <td>1.6</td>\n",
       "      <td>NaN</td>\n",
       "    </tr>\n",
       "    <tr>\n",
       "      <th>battery_drain_(mah/day)</th>\n",
       "      <td>490.0</td>\n",
       "      <td>NaN</td>\n",
       "    </tr>\n",
       "    <tr>\n",
       "      <th>number_of_apps_installed</th>\n",
       "      <td>10.0</td>\n",
       "      <td>16.0</td>\n",
       "    </tr>\n",
       "    <tr>\n",
       "      <th>data_usage_(mb/day)</th>\n",
       "      <td>122.0</td>\n",
       "      <td>284.0</td>\n",
       "    </tr>\n",
       "    <tr>\n",
       "      <th>age</th>\n",
       "      <td>34.0</td>\n",
       "      <td>51.0</td>\n",
       "    </tr>\n",
       "    <tr>\n",
       "      <th>user_behavior_class</th>\n",
       "      <td>2.0</td>\n",
       "      <td>NaN</td>\n",
       "    </tr>\n",
       "  </tbody>\n",
       "</table>\n",
       "</div>"
      ],
      "text/plain": [
       "                                0      1\n",
       "app_usage_time_(min/day)     64.0    NaN\n",
       "screen_on_time_(hours/day)    1.6    NaN\n",
       "battery_drain_(mah/day)     490.0    NaN\n",
       "number_of_apps_installed     10.0   16.0\n",
       "data_usage_(mb/day)         122.0  284.0\n",
       "age                          34.0   51.0\n",
       "user_behavior_class           2.0    NaN"
      ]
     },
     "execution_count": 14,
     "metadata": {},
     "output_type": "execute_result"
    }
   ],
   "source": [
    "# Calcular la moda de las columnas numéricas, excluyendo la columna 'user_id'\n",
    "dataset.select_dtypes(include=\"number\").drop(columns='user_id').mode().T"
   ]
  },
  {
   "cell_type": "markdown",
   "id": "4d99aac7",
   "metadata": {},
   "source": [
    "#### Mediana de las columnas numericas\n",
    "\n",
    "Definición: Es el valor central de los datos cuando se ordenan de menor a mayor. Si \thay una cantidad impar de datos, es el del medio; si es par, es el promedio de los dos \tcentrales. Es útil cuando hay valores extremos que pueden distorsionar la media."
   ]
  },
  {
   "cell_type": "code",
   "execution_count": 18,
   "id": "482240fa",
   "metadata": {},
   "outputs": [
    {
     "data": {
      "text/plain": [
       "app_usage_time_(min/day)       227.5\n",
       "screen_on_time_(hours/day)       4.9\n",
       "battery_drain_(mah/day)       1502.5\n",
       "number_of_apps_installed        49.0\n",
       "data_usage_(mb/day)            823.5\n",
       "age                             38.0\n",
       "user_behavior_class              3.0\n",
       "dtype: float64"
      ]
     },
     "execution_count": 18,
     "metadata": {},
     "output_type": "execute_result"
    }
   ],
   "source": [
    "dataset.select_dtypes(include='number').drop(columns='user_id').median()"
   ]
  },
  {
   "cell_type": "markdown",
   "id": "8ad94173",
   "metadata": {},
   "source": [
    "#### Rango de las columnas numericas\n",
    "\n",
    "Definición: Es la diferencia entre el valor más alto y el más bajo del conjunto. Da uma \tidea rápida de la amplitud o dispersión de los datos, aunque no considera cómo están \tdistribuidos internamente."
   ]
  },
  {
   "cell_type": "code",
   "execution_count": 19,
   "id": "ab92c1db",
   "metadata": {},
   "outputs": [
    {
     "name": "stdout",
     "output_type": "stream",
     "text": [
      "app_usage_time_(min/day)       568.0\n",
      "screen_on_time_(hours/day)      11.0\n",
      "battery_drain_(mah/day)       2691.0\n",
      "number_of_apps_installed        89.0\n",
      "data_usage_(mb/day)           2395.0\n",
      "age                             41.0\n",
      "user_behavior_class              4.0\n",
      "dtype: float64\n"
     ]
    }
   ],
   "source": [
    "col_numericas = dataset.select_dtypes(include='number').drop(columns=\"user_id\")\n",
    "rango = col_numericas.max() - col_numericas.min()\n",
    "\n",
    "print(rango)"
   ]
  },
  {
   "cell_type": "markdown",
   "id": "3df11e46",
   "metadata": {},
   "source": [
    "#### Desviación estandar\n",
    "\n",
    "Definición: Es una medida de dispersión que indica cuánto, en promedio, \tse alejan los valores respecto a la media. Cuanto mayor es la desviación estándar, \tmás dispersos están los datos; cuanto menor, más agrupados están cerca de la \tmedia."
   ]
  },
  {
   "cell_type": "code",
   "execution_count": 20,
   "id": "86b02336",
   "metadata": {},
   "outputs": [
    {
     "data": {
      "text/plain": [
       "app_usage_time_(min/day)      177.199484\n",
       "screen_on_time_(hours/day)      3.068584\n",
       "battery_drain_(mah/day)       819.136414\n",
       "number_of_apps_installed       26.943324\n",
       "data_usage_(mb/day)           640.451729\n",
       "age                            12.012916\n",
       "user_behavior_class             1.401476\n",
       "dtype: float64"
      ]
     },
     "execution_count": 20,
     "metadata": {},
     "output_type": "execute_result"
    }
   ],
   "source": [
    "dataset.select_dtypes(include='number').drop(columns='user_id').std()"
   ]
  },
  {
   "cell_type": "markdown",
   "id": "8faeae16",
   "metadata": {},
   "source": [
    "## Análisis univariado"
   ]
  },
  {
   "cell_type": "markdown",
   "id": "bcbaec72",
   "metadata": {},
   "source": [
    "### Análisis de la columna 'device_model' - Columna categórica\n",
    "\n",
    "La primera columna en la que se hará el análisis es la columna \"device_model\", que informa los modelos que aparecen dentro del dataset"
   ]
  },
  {
   "cell_type": "markdown",
   "id": "517cb6c0",
   "metadata": {},
   "source": [
    "#### Conteo de frecuencias absolutas"
   ]
  },
  {
   "cell_type": "code",
   "execution_count": 7,
   "id": "d9eec2e7",
   "metadata": {},
   "outputs": [
    {
     "data": {
      "text/plain": [
       "device_model\n",
       "Xiaomi Mi 11          146\n",
       "iPhone 12             146\n",
       "Google Pixel 5        142\n",
       "OnePlus 9             133\n",
       "Samsung Galaxy S21    133\n",
       "Name: count, dtype: int64"
      ]
     },
     "execution_count": 7,
     "metadata": {},
     "output_type": "execute_result"
    }
   ],
   "source": [
    "dataset[\"device_model\"].value_counts()"
   ]
  },
  {
   "cell_type": "markdown",
   "id": "e212ce5b",
   "metadata": {},
   "source": [
    "#### Porcentajes (frecuencias relativas)"
   ]
  },
  {
   "cell_type": "code",
   "execution_count": 8,
   "id": "f50b603b",
   "metadata": {},
   "outputs": [
    {
     "data": {
      "text/plain": [
       "device_model\n",
       "Xiaomi Mi 11          20.857143\n",
       "iPhone 12             20.857143\n",
       "Google Pixel 5        20.285714\n",
       "OnePlus 9             19.000000\n",
       "Samsung Galaxy S21    19.000000\n",
       "Name: proportion, dtype: float64"
      ]
     },
     "execution_count": 8,
     "metadata": {},
     "output_type": "execute_result"
    }
   ],
   "source": [
    "dataset[\"device_model\"].value_counts(normalize=True) * 100"
   ]
  },
  {
   "cell_type": "markdown",
   "id": "da6a5ad2",
   "metadata": {},
   "source": [
    "#### Número de categorías únicas"
   ]
  },
  {
   "cell_type": "code",
   "execution_count": 9,
   "id": "a0bfba03",
   "metadata": {},
   "outputs": [
    {
     "data": {
      "text/plain": [
       "5"
      ]
     },
     "execution_count": 9,
     "metadata": {},
     "output_type": "execute_result"
    }
   ],
   "source": [
    "dataset[\"device_model\"].nunique()"
   ]
  },
  {
   "cell_type": "markdown",
   "id": "6a5ed5cc",
   "metadata": {},
   "source": [
    "#### Identificación de la moda"
   ]
  },
  {
   "cell_type": "code",
   "execution_count": 15,
   "id": "6248416d",
   "metadata": {},
   "outputs": [
    {
     "data": {
      "text/plain": [
       "0    Xiaomi Mi 11\n",
       "1       iPhone 12\n",
       "Name: device_model, dtype: object"
      ]
     },
     "execution_count": 15,
     "metadata": {},
     "output_type": "execute_result"
    }
   ],
   "source": [
    "dataset[\"device_model\"].mode().T"
   ]
  },
  {
   "cell_type": "markdown",
   "id": "dedfd036",
   "metadata": {},
   "source": [
    "## Análisis bivariado"
   ]
  },
  {
   "cell_type": "markdown",
   "id": "214cd3e3",
   "metadata": {},
   "source": [
    "## Análisis multivariado exploratório"
   ]
  },
  {
   "cell_type": "markdown",
   "id": "c44c5074",
   "metadata": {},
   "source": []
  }
 ],
 "metadata": {
  "kernelspec": {
   "display_name": "eda_env",
   "language": "python",
   "name": "python3"
  },
  "language_info": {
   "codemirror_mode": {
    "name": "ipython",
    "version": 3
   },
   "file_extension": ".py",
   "mimetype": "text/x-python",
   "name": "python",
   "nbconvert_exporter": "python",
   "pygments_lexer": "ipython3",
   "version": "3.11.2"
  }
 },
 "nbformat": 4,
 "nbformat_minor": 5
}
