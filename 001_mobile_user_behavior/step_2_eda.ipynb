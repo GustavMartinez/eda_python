{
 "cells": [
  {
   "cell_type": "markdown",
   "id": "b86cb02a",
   "metadata": {},
   "source": [
    "# EDA - Mobile User Behavior\n",
    "\n",
    "#### - Estadística descriptiva\n",
    "#### - Análisis univariado (numérico y gráfico)"
   ]
  },
  {
   "cell_type": "markdown",
   "id": "3500cc10",
   "metadata": {},
   "source": [
    "## Importar librerias y cargar los datos"
   ]
  },
  {
   "cell_type": "code",
   "execution_count": 1,
   "id": "11032478",
   "metadata": {},
   "outputs": [],
   "source": [
    "# Importar librerias\n",
    "\n",
    "import pandas as pd\n",
    "import numpy as np\n",
    "import matplotlib.pyplot as plt\n",
    "import seaborn as sns"
   ]
  },
  {
   "cell_type": "code",
   "execution_count": 2,
   "id": "86b69d8d",
   "metadata": {},
   "outputs": [],
   "source": [
    "# Cargar los datos\n",
    "\n",
    "dataset = pd.read_csv(\"user_behavior_dataset_clean.csv\")"
   ]
  },
  {
   "cell_type": "markdown",
   "id": "5fda2e8c",
   "metadata": {},
   "source": [
    "### Vista general del dataset\n",
    "\n",
    "Visualizar todas las columnas y algunas metricas básicas"
   ]
  },
  {
   "cell_type": "code",
   "execution_count": 3,
   "id": "6b201094",
   "metadata": {},
   "outputs": [
    {
     "data": {
      "text/html": [
       "<div>\n",
       "<style scoped>\n",
       "    .dataframe tbody tr th:only-of-type {\n",
       "        vertical-align: middle;\n",
       "    }\n",
       "\n",
       "    .dataframe tbody tr th {\n",
       "        vertical-align: top;\n",
       "    }\n",
       "\n",
       "    .dataframe thead th {\n",
       "        text-align: right;\n",
       "    }\n",
       "</style>\n",
       "<table border=\"1\" class=\"dataframe\">\n",
       "  <thead>\n",
       "    <tr style=\"text-align: right;\">\n",
       "      <th></th>\n",
       "      <th>count</th>\n",
       "      <th>unique</th>\n",
       "      <th>top</th>\n",
       "      <th>freq</th>\n",
       "      <th>mean</th>\n",
       "      <th>std</th>\n",
       "      <th>min</th>\n",
       "      <th>25%</th>\n",
       "      <th>50%</th>\n",
       "      <th>75%</th>\n",
       "      <th>max</th>\n",
       "    </tr>\n",
       "  </thead>\n",
       "  <tbody>\n",
       "    <tr>\n",
       "      <th>user_id</th>\n",
       "      <td>700.0</td>\n",
       "      <td>NaN</td>\n",
       "      <td>NaN</td>\n",
       "      <td>NaN</td>\n",
       "      <td>350.5</td>\n",
       "      <td>202.21688</td>\n",
       "      <td>1.0</td>\n",
       "      <td>175.75</td>\n",
       "      <td>350.5</td>\n",
       "      <td>525.25</td>\n",
       "      <td>700.0</td>\n",
       "    </tr>\n",
       "    <tr>\n",
       "      <th>device_model</th>\n",
       "      <td>700</td>\n",
       "      <td>5</td>\n",
       "      <td>Xiaomi Mi 11</td>\n",
       "      <td>146</td>\n",
       "      <td>NaN</td>\n",
       "      <td>NaN</td>\n",
       "      <td>NaN</td>\n",
       "      <td>NaN</td>\n",
       "      <td>NaN</td>\n",
       "      <td>NaN</td>\n",
       "      <td>NaN</td>\n",
       "    </tr>\n",
       "    <tr>\n",
       "      <th>operating_system</th>\n",
       "      <td>700</td>\n",
       "      <td>2</td>\n",
       "      <td>Android</td>\n",
       "      <td>554</td>\n",
       "      <td>NaN</td>\n",
       "      <td>NaN</td>\n",
       "      <td>NaN</td>\n",
       "      <td>NaN</td>\n",
       "      <td>NaN</td>\n",
       "      <td>NaN</td>\n",
       "      <td>NaN</td>\n",
       "    </tr>\n",
       "    <tr>\n",
       "      <th>app_usage_time_(min/day)</th>\n",
       "      <td>700.0</td>\n",
       "      <td>NaN</td>\n",
       "      <td>NaN</td>\n",
       "      <td>NaN</td>\n",
       "      <td>271.128571</td>\n",
       "      <td>177.199484</td>\n",
       "      <td>30.0</td>\n",
       "      <td>113.25</td>\n",
       "      <td>227.5</td>\n",
       "      <td>434.25</td>\n",
       "      <td>598.0</td>\n",
       "    </tr>\n",
       "    <tr>\n",
       "      <th>screen_on_time_(hours/day)</th>\n",
       "      <td>700.0</td>\n",
       "      <td>NaN</td>\n",
       "      <td>NaN</td>\n",
       "      <td>NaN</td>\n",
       "      <td>5.272714</td>\n",
       "      <td>3.068584</td>\n",
       "      <td>1.0</td>\n",
       "      <td>2.5</td>\n",
       "      <td>4.9</td>\n",
       "      <td>7.4</td>\n",
       "      <td>12.0</td>\n",
       "    </tr>\n",
       "    <tr>\n",
       "      <th>battery_drain_(mah/day)</th>\n",
       "      <td>700.0</td>\n",
       "      <td>NaN</td>\n",
       "      <td>NaN</td>\n",
       "      <td>NaN</td>\n",
       "      <td>1525.158571</td>\n",
       "      <td>819.136414</td>\n",
       "      <td>302.0</td>\n",
       "      <td>722.25</td>\n",
       "      <td>1502.5</td>\n",
       "      <td>2229.5</td>\n",
       "      <td>2993.0</td>\n",
       "    </tr>\n",
       "    <tr>\n",
       "      <th>number_of_apps_installed</th>\n",
       "      <td>700.0</td>\n",
       "      <td>NaN</td>\n",
       "      <td>NaN</td>\n",
       "      <td>NaN</td>\n",
       "      <td>50.681429</td>\n",
       "      <td>26.943324</td>\n",
       "      <td>10.0</td>\n",
       "      <td>26.0</td>\n",
       "      <td>49.0</td>\n",
       "      <td>74.0</td>\n",
       "      <td>99.0</td>\n",
       "    </tr>\n",
       "    <tr>\n",
       "      <th>data_usage_(mb/day)</th>\n",
       "      <td>700.0</td>\n",
       "      <td>NaN</td>\n",
       "      <td>NaN</td>\n",
       "      <td>NaN</td>\n",
       "      <td>929.742857</td>\n",
       "      <td>640.451729</td>\n",
       "      <td>102.0</td>\n",
       "      <td>373.0</td>\n",
       "      <td>823.5</td>\n",
       "      <td>1341.0</td>\n",
       "      <td>2497.0</td>\n",
       "    </tr>\n",
       "    <tr>\n",
       "      <th>age</th>\n",
       "      <td>700.0</td>\n",
       "      <td>NaN</td>\n",
       "      <td>NaN</td>\n",
       "      <td>NaN</td>\n",
       "      <td>38.482857</td>\n",
       "      <td>12.012916</td>\n",
       "      <td>18.0</td>\n",
       "      <td>28.0</td>\n",
       "      <td>38.0</td>\n",
       "      <td>49.0</td>\n",
       "      <td>59.0</td>\n",
       "    </tr>\n",
       "    <tr>\n",
       "      <th>gender</th>\n",
       "      <td>700</td>\n",
       "      <td>2</td>\n",
       "      <td>Male</td>\n",
       "      <td>364</td>\n",
       "      <td>NaN</td>\n",
       "      <td>NaN</td>\n",
       "      <td>NaN</td>\n",
       "      <td>NaN</td>\n",
       "      <td>NaN</td>\n",
       "      <td>NaN</td>\n",
       "      <td>NaN</td>\n",
       "    </tr>\n",
       "    <tr>\n",
       "      <th>user_behavior_class</th>\n",
       "      <td>700.0</td>\n",
       "      <td>NaN</td>\n",
       "      <td>NaN</td>\n",
       "      <td>NaN</td>\n",
       "      <td>2.99</td>\n",
       "      <td>1.401476</td>\n",
       "      <td>1.0</td>\n",
       "      <td>2.0</td>\n",
       "      <td>3.0</td>\n",
       "      <td>4.0</td>\n",
       "      <td>5.0</td>\n",
       "    </tr>\n",
       "    <tr>\n",
       "      <th>defined_behavior</th>\n",
       "      <td>700</td>\n",
       "      <td>5</td>\n",
       "      <td>Low</td>\n",
       "      <td>146</td>\n",
       "      <td>NaN</td>\n",
       "      <td>NaN</td>\n",
       "      <td>NaN</td>\n",
       "      <td>NaN</td>\n",
       "      <td>NaN</td>\n",
       "      <td>NaN</td>\n",
       "      <td>NaN</td>\n",
       "    </tr>\n",
       "  </tbody>\n",
       "</table>\n",
       "</div>"
      ],
      "text/plain": [
       "                            count unique           top freq         mean  \\\n",
       "user_id                     700.0    NaN           NaN  NaN        350.5   \n",
       "device_model                  700      5  Xiaomi Mi 11  146          NaN   \n",
       "operating_system              700      2       Android  554          NaN   \n",
       "app_usage_time_(min/day)    700.0    NaN           NaN  NaN   271.128571   \n",
       "screen_on_time_(hours/day)  700.0    NaN           NaN  NaN     5.272714   \n",
       "battery_drain_(mah/day)     700.0    NaN           NaN  NaN  1525.158571   \n",
       "number_of_apps_installed    700.0    NaN           NaN  NaN    50.681429   \n",
       "data_usage_(mb/day)         700.0    NaN           NaN  NaN   929.742857   \n",
       "age                         700.0    NaN           NaN  NaN    38.482857   \n",
       "gender                        700      2          Male  364          NaN   \n",
       "user_behavior_class         700.0    NaN           NaN  NaN         2.99   \n",
       "defined_behavior              700      5           Low  146          NaN   \n",
       "\n",
       "                                   std    min     25%     50%     75%     max  \n",
       "user_id                      202.21688    1.0  175.75   350.5  525.25   700.0  \n",
       "device_model                       NaN    NaN     NaN     NaN     NaN     NaN  \n",
       "operating_system                   NaN    NaN     NaN     NaN     NaN     NaN  \n",
       "app_usage_time_(min/day)    177.199484   30.0  113.25   227.5  434.25   598.0  \n",
       "screen_on_time_(hours/day)    3.068584    1.0     2.5     4.9     7.4    12.0  \n",
       "battery_drain_(mah/day)     819.136414  302.0  722.25  1502.5  2229.5  2993.0  \n",
       "number_of_apps_installed     26.943324   10.0    26.0    49.0    74.0    99.0  \n",
       "data_usage_(mb/day)         640.451729  102.0   373.0   823.5  1341.0  2497.0  \n",
       "age                          12.012916   18.0    28.0    38.0    49.0    59.0  \n",
       "gender                             NaN    NaN     NaN     NaN     NaN     NaN  \n",
       "user_behavior_class           1.401476    1.0     2.0     3.0     4.0     5.0  \n",
       "defined_behavior                   NaN    NaN     NaN     NaN     NaN     NaN  "
      ]
     },
     "execution_count": 3,
     "metadata": {},
     "output_type": "execute_result"
    }
   ],
   "source": [
    "dataset.describe(include=\"all\").T"
   ]
  },
  {
   "cell_type": "markdown",
   "id": "37dbe3b3",
   "metadata": {},
   "source": [
    "## Estadística descriptiva (información general del dataset)"
   ]
  },
  {
   "cell_type": "markdown",
   "id": "40aa075f",
   "metadata": {},
   "source": [
    "#### Média de las columnas numericas\n",
    "\n",
    "Definición: Es el valor promedio de un conjunto de datos; representa una medida general \tde tendencia central. Se obtiene al sumar todos los valores y dividirlos entre la \tcantidad de elementos."
   ]
  },
  {
   "cell_type": "code",
   "execution_count": 4,
   "id": "f6f6006a",
   "metadata": {},
   "outputs": [
    {
     "data": {
      "text/plain": [
       "user_id                        350.500000\n",
       "app_usage_time_(min/day)       271.128571\n",
       "screen_on_time_(hours/day)       5.272714\n",
       "battery_drain_(mah/day)       1525.158571\n",
       "number_of_apps_installed        50.681429\n",
       "data_usage_(mb/day)            929.742857\n",
       "age                             38.482857\n",
       "user_behavior_class              2.990000\n",
       "dtype: float64"
      ]
     },
     "execution_count": 4,
     "metadata": {},
     "output_type": "execute_result"
    }
   ],
   "source": [
    "# Calcular média solamente de las columnas numéricas\n",
    "dataset.select_dtypes(include='number').mean()"
   ]
  },
  {
   "cell_type": "markdown",
   "id": "5a92b0d4",
   "metadata": {},
   "source": [
    "#### Moda de las columnas numéricas\n",
    "\n",
    "Es el valor que más veces se repite en el conjunto de datos. Puede haber más \tde una moda (bimodal, multimodal) o ninguna. Es útil para identificar los valores más \tcomunes o frecuentes."
   ]
  },
  {
   "cell_type": "code",
   "execution_count": 5,
   "id": "51019087",
   "metadata": {},
   "outputs": [
    {
     "data": {
      "text/html": [
       "<div>\n",
       "<style scoped>\n",
       "    .dataframe tbody tr th:only-of-type {\n",
       "        vertical-align: middle;\n",
       "    }\n",
       "\n",
       "    .dataframe tbody tr th {\n",
       "        vertical-align: top;\n",
       "    }\n",
       "\n",
       "    .dataframe thead th {\n",
       "        text-align: right;\n",
       "    }\n",
       "</style>\n",
       "<table border=\"1\" class=\"dataframe\">\n",
       "  <thead>\n",
       "    <tr style=\"text-align: right;\">\n",
       "      <th></th>\n",
       "      <th>0</th>\n",
       "      <th>1</th>\n",
       "    </tr>\n",
       "  </thead>\n",
       "  <tbody>\n",
       "    <tr>\n",
       "      <th>app_usage_time_(min/day)</th>\n",
       "      <td>64.0</td>\n",
       "      <td>NaN</td>\n",
       "    </tr>\n",
       "    <tr>\n",
       "      <th>screen_on_time_(hours/day)</th>\n",
       "      <td>1.6</td>\n",
       "      <td>NaN</td>\n",
       "    </tr>\n",
       "    <tr>\n",
       "      <th>battery_drain_(mah/day)</th>\n",
       "      <td>490.0</td>\n",
       "      <td>NaN</td>\n",
       "    </tr>\n",
       "    <tr>\n",
       "      <th>number_of_apps_installed</th>\n",
       "      <td>10.0</td>\n",
       "      <td>16.0</td>\n",
       "    </tr>\n",
       "    <tr>\n",
       "      <th>data_usage_(mb/day)</th>\n",
       "      <td>122.0</td>\n",
       "      <td>284.0</td>\n",
       "    </tr>\n",
       "    <tr>\n",
       "      <th>age</th>\n",
       "      <td>34.0</td>\n",
       "      <td>51.0</td>\n",
       "    </tr>\n",
       "    <tr>\n",
       "      <th>user_behavior_class</th>\n",
       "      <td>2.0</td>\n",
       "      <td>NaN</td>\n",
       "    </tr>\n",
       "  </tbody>\n",
       "</table>\n",
       "</div>"
      ],
      "text/plain": [
       "                                0      1\n",
       "app_usage_time_(min/day)     64.0    NaN\n",
       "screen_on_time_(hours/day)    1.6    NaN\n",
       "battery_drain_(mah/day)     490.0    NaN\n",
       "number_of_apps_installed     10.0   16.0\n",
       "data_usage_(mb/day)         122.0  284.0\n",
       "age                          34.0   51.0\n",
       "user_behavior_class           2.0    NaN"
      ]
     },
     "execution_count": 5,
     "metadata": {},
     "output_type": "execute_result"
    }
   ],
   "source": [
    "# Calcular la moda de las columnas numéricas, excluyendo la columna 'user_id'\n",
    "dataset.select_dtypes(include=\"number\").drop(columns='user_id').mode().T"
   ]
  },
  {
   "cell_type": "markdown",
   "id": "4d99aac7",
   "metadata": {},
   "source": [
    "#### Mediana de las columnas numericas\n",
    "\n",
    "Definición: Es el valor central de los datos cuando se ordenan de menor a mayor. Si \thay una cantidad impar de datos, es el del medio; si es par, es el promedio de los dos \tcentrales. Es útil cuando hay valores extremos que pueden distorsionar la media."
   ]
  },
  {
   "cell_type": "code",
   "execution_count": 6,
   "id": "482240fa",
   "metadata": {},
   "outputs": [
    {
     "data": {
      "text/plain": [
       "app_usage_time_(min/day)       227.5\n",
       "screen_on_time_(hours/day)       4.9\n",
       "battery_drain_(mah/day)       1502.5\n",
       "number_of_apps_installed        49.0\n",
       "data_usage_(mb/day)            823.5\n",
       "age                             38.0\n",
       "user_behavior_class              3.0\n",
       "dtype: float64"
      ]
     },
     "execution_count": 6,
     "metadata": {},
     "output_type": "execute_result"
    }
   ],
   "source": [
    "dataset.select_dtypes(include='number').drop(columns='user_id').median()"
   ]
  },
  {
   "cell_type": "markdown",
   "id": "8ad94173",
   "metadata": {},
   "source": [
    "#### Rango de las columnas numericas\n",
    "\n",
    "Definición: Es la diferencia entre el valor más alto y el más bajo del conjunto. Da uma \tidea rápida de la amplitud o dispersión de los datos, aunque no considera cómo están \tdistribuidos internamente."
   ]
  },
  {
   "cell_type": "code",
   "execution_count": 7,
   "id": "ab92c1db",
   "metadata": {},
   "outputs": [
    {
     "name": "stdout",
     "output_type": "stream",
     "text": [
      "app_usage_time_(min/day)       568.0\n",
      "screen_on_time_(hours/day)      11.0\n",
      "battery_drain_(mah/day)       2691.0\n",
      "number_of_apps_installed        89.0\n",
      "data_usage_(mb/day)           2395.0\n",
      "age                             41.0\n",
      "user_behavior_class              4.0\n",
      "dtype: float64\n"
     ]
    }
   ],
   "source": [
    "col_numericas = dataset.select_dtypes(include='number').drop(columns=\"user_id\")\n",
    "rango = col_numericas.max() - col_numericas.min()\n",
    "\n",
    "print(rango)"
   ]
  },
  {
   "cell_type": "markdown",
   "id": "3df11e46",
   "metadata": {},
   "source": [
    "#### Desviación estandar\n",
    "\n",
    "Definición: Es una medida de dispersión que indica cuánto, en promedio, \tse alejan los valores respecto a la media. Cuanto mayor es la desviación estándar, \tmás dispersos están los datos; cuanto menor, más agrupados están cerca de la \tmedia."
   ]
  },
  {
   "cell_type": "code",
   "execution_count": 8,
   "id": "86b02336",
   "metadata": {},
   "outputs": [
    {
     "data": {
      "text/plain": [
       "app_usage_time_(min/day)      177.199484\n",
       "screen_on_time_(hours/day)      3.068584\n",
       "battery_drain_(mah/day)       819.136414\n",
       "number_of_apps_installed       26.943324\n",
       "data_usage_(mb/day)           640.451729\n",
       "age                            12.012916\n",
       "user_behavior_class             1.401476\n",
       "dtype: float64"
      ]
     },
     "execution_count": 8,
     "metadata": {},
     "output_type": "execute_result"
    }
   ],
   "source": [
    "dataset.select_dtypes(include='number').drop(columns='user_id').std()"
   ]
  },
  {
   "cell_type": "markdown",
   "id": "8faeae16",
   "metadata": {},
   "source": [
    "## Análisis univariado\n",
    "\n",
    "En el análisis univariado, podemos adoptar la siguiente estratégia para analizar cada variable:\n",
    "\n",
    "* Variable categórica: Desarrollar análisis numérico y análisis gráfico\n",
    "* Variable numérica: Desarrollar análisis numérico y gráfico."
   ]
  },
  {
   "cell_type": "markdown",
   "id": "bcbaec72",
   "metadata": {},
   "source": [
    "### Análisis de la columna 'device_model' - Columna categórica - Análisis numérico\n",
    "\n",
    "La primera columna en la que se hará el análisis es la columna \"device_model\", que informa los modelos que aparecen dentro del dataset"
   ]
  },
  {
   "cell_type": "markdown",
   "id": "517cb6c0",
   "metadata": {},
   "source": [
    "#### Conteo de frecuencias absolutas\n",
    "Definición: Es la cantidad de veces que aparece cada categoría en la columna. Muestra cuántas observaciones pertenecen a cada grupo."
   ]
  },
  {
   "cell_type": "code",
   "execution_count": 9,
   "id": "75c07ee5",
   "metadata": {},
   "outputs": [
    {
     "data": {
      "text/html": [
       "<div>\n",
       "<style scoped>\n",
       "    .dataframe tbody tr th:only-of-type {\n",
       "        vertical-align: middle;\n",
       "    }\n",
       "\n",
       "    .dataframe tbody tr th {\n",
       "        vertical-align: top;\n",
       "    }\n",
       "\n",
       "    .dataframe thead th {\n",
       "        text-align: right;\n",
       "    }\n",
       "</style>\n",
       "<table border=\"1\" class=\"dataframe\">\n",
       "  <thead>\n",
       "    <tr style=\"text-align: right;\">\n",
       "      <th></th>\n",
       "      <th>device_model</th>\n",
       "      <th>count</th>\n",
       "    </tr>\n",
       "  </thead>\n",
       "  <tbody>\n",
       "    <tr>\n",
       "      <th>0</th>\n",
       "      <td>Xiaomi Mi 11</td>\n",
       "      <td>146</td>\n",
       "    </tr>\n",
       "    <tr>\n",
       "      <th>1</th>\n",
       "      <td>iPhone 12</td>\n",
       "      <td>146</td>\n",
       "    </tr>\n",
       "    <tr>\n",
       "      <th>2</th>\n",
       "      <td>Google Pixel 5</td>\n",
       "      <td>142</td>\n",
       "    </tr>\n",
       "    <tr>\n",
       "      <th>3</th>\n",
       "      <td>OnePlus 9</td>\n",
       "      <td>133</td>\n",
       "    </tr>\n",
       "    <tr>\n",
       "      <th>4</th>\n",
       "      <td>Samsung Galaxy S21</td>\n",
       "      <td>133</td>\n",
       "    </tr>\n",
       "  </tbody>\n",
       "</table>\n",
       "</div>"
      ],
      "text/plain": [
       "         device_model  count\n",
       "0        Xiaomi Mi 11    146\n",
       "1           iPhone 12    146\n",
       "2      Google Pixel 5    142\n",
       "3           OnePlus 9    133\n",
       "4  Samsung Galaxy S21    133"
      ]
     },
     "execution_count": 9,
     "metadata": {},
     "output_type": "execute_result"
    }
   ],
   "source": [
    "dataset['device_model'].value_counts().rename_axis('device_model').reset_index(name='count')"
   ]
  },
  {
   "cell_type": "markdown",
   "id": "e212ce5b",
   "metadata": {},
   "source": [
    "#### Porcentajes (frecuencias relativas)\n",
    "Definición: Es la proporción que representa cada categoría respecto al total, expresada en porcentaje. Ayuda a comparar categorías de diferentes tamaños."
   ]
  },
  {
   "cell_type": "code",
   "execution_count": 10,
   "id": "360bbcc0",
   "metadata": {},
   "outputs": [
    {
     "data": {
      "text/html": [
       "<div>\n",
       "<style scoped>\n",
       "    .dataframe tbody tr th:only-of-type {\n",
       "        vertical-align: middle;\n",
       "    }\n",
       "\n",
       "    .dataframe tbody tr th {\n",
       "        vertical-align: top;\n",
       "    }\n",
       "\n",
       "    .dataframe thead th {\n",
       "        text-align: right;\n",
       "    }\n",
       "</style>\n",
       "<table border=\"1\" class=\"dataframe\">\n",
       "  <thead>\n",
       "    <tr style=\"text-align: right;\">\n",
       "      <th></th>\n",
       "      <th>device_model</th>\n",
       "      <th>percentage</th>\n",
       "    </tr>\n",
       "  </thead>\n",
       "  <tbody>\n",
       "    <tr>\n",
       "      <th>0</th>\n",
       "      <td>Xiaomi Mi 11</td>\n",
       "      <td>20.86</td>\n",
       "    </tr>\n",
       "    <tr>\n",
       "      <th>1</th>\n",
       "      <td>iPhone 12</td>\n",
       "      <td>20.86</td>\n",
       "    </tr>\n",
       "    <tr>\n",
       "      <th>2</th>\n",
       "      <td>Google Pixel 5</td>\n",
       "      <td>20.29</td>\n",
       "    </tr>\n",
       "    <tr>\n",
       "      <th>3</th>\n",
       "      <td>OnePlus 9</td>\n",
       "      <td>19.00</td>\n",
       "    </tr>\n",
       "    <tr>\n",
       "      <th>4</th>\n",
       "      <td>Samsung Galaxy S21</td>\n",
       "      <td>19.00</td>\n",
       "    </tr>\n",
       "  </tbody>\n",
       "</table>\n",
       "</div>"
      ],
      "text/plain": [
       "         device_model  percentage\n",
       "0        Xiaomi Mi 11       20.86\n",
       "1           iPhone 12       20.86\n",
       "2      Google Pixel 5       20.29\n",
       "3           OnePlus 9       19.00\n",
       "4  Samsung Galaxy S21       19.00"
      ]
     },
     "execution_count": 10,
     "metadata": {},
     "output_type": "execute_result"
    }
   ],
   "source": [
    "# Paso 1: Calcular la frecuencia relativa\n",
    "freq_relativa = dataset[\"device_model\"].value_counts(normalize=True)\n",
    "\n",
    "# Paso 2: Multiplicar por 100 para obtener porcentajes\n",
    "porcentajes = freq_relativa * 100\n",
    "\n",
    "# Paso 3: Convertir a DataFrame y organizar columnas\n",
    "porcentajes_df = porcentajes.rename_axis('device_model').reset_index(name='percentage')\n",
    "\n",
    "# Paso 4: Redondear los porcentajes a dos decimales\n",
    "porcentajes_df['percentage'] = porcentajes_df['percentage'].round(2)\n",
    "\n",
    "porcentajes_df"
   ]
  },
  {
   "cell_type": "markdown",
   "id": "da6a5ad2",
   "metadata": {},
   "source": [
    "#### Número de categorías únicas\n",
    "Definición: Indica cuántas categorías diferentes existen en la columna. Es útil para entender la diversidad o variedad de valores."
   ]
  },
  {
   "cell_type": "code",
   "execution_count": 11,
   "id": "a0bfba03",
   "metadata": {},
   "outputs": [
    {
     "name": "stdout",
     "output_type": "stream",
     "text": [
      "El número de categorias únicas es: 5\n"
     ]
    }
   ],
   "source": [
    "categorias_unicas = dataset['device_model'].nunique()\n",
    "\n",
    "print(f\"El número de categorias únicas es: {categorias_unicas}\")"
   ]
  },
  {
   "cell_type": "markdown",
   "id": "6a5ed5cc",
   "metadata": {},
   "source": [
    "#### Identificación de la moda\n",
    "Definición: Es la categoría que aparece con mayor frecuencia en la columna. Representa el valor más común o típico de esa variable."
   ]
  },
  {
   "cell_type": "code",
   "execution_count": 12,
   "id": "ba38683c",
   "metadata": {},
   "outputs": [
    {
     "data": {
      "text/html": [
       "<div>\n",
       "<style scoped>\n",
       "    .dataframe tbody tr th:only-of-type {\n",
       "        vertical-align: middle;\n",
       "    }\n",
       "\n",
       "    .dataframe tbody tr th {\n",
       "        vertical-align: top;\n",
       "    }\n",
       "\n",
       "    .dataframe thead th {\n",
       "        text-align: right;\n",
       "    }\n",
       "</style>\n",
       "<table border=\"1\" class=\"dataframe\">\n",
       "  <thead>\n",
       "    <tr style=\"text-align: right;\">\n",
       "      <th></th>\n",
       "      <th>mode</th>\n",
       "    </tr>\n",
       "  </thead>\n",
       "  <tbody>\n",
       "    <tr>\n",
       "      <th>0</th>\n",
       "      <td>Xiaomi Mi 11</td>\n",
       "    </tr>\n",
       "    <tr>\n",
       "      <th>1</th>\n",
       "      <td>iPhone 12</td>\n",
       "    </tr>\n",
       "  </tbody>\n",
       "</table>\n",
       "</div>"
      ],
      "text/plain": [
       "           mode\n",
       "0  Xiaomi Mi 11\n",
       "1     iPhone 12"
      ]
     },
     "execution_count": 12,
     "metadata": {},
     "output_type": "execute_result"
    }
   ],
   "source": [
    "moda = dataset[\"device_model\"].mode().to_frame(name='mode')\n",
    "moda"
   ]
  },
  {
   "cell_type": "markdown",
   "id": "3e97082b",
   "metadata": {},
   "source": [
    "### Análisis de la columna 'device_model' - Columna categórica - Análisis gráfico"
   ]
  },
  {
   "cell_type": "markdown",
   "id": "58b50d45",
   "metadata": {},
   "source": [
    "#### Creando un gráfico de barras"
   ]
  },
  {
   "cell_type": "code",
   "execution_count": 31,
   "id": "6ae2571b",
   "metadata": {},
   "outputs": [
    {
     "data": {
      "image/png": "[encoded data removed]",
      "text/plain": [
       "<Figure size 640x480 with 1 Axes>"
      ]
     },
     "metadata": {},
     "output_type": "display_data"
    }
   ],
   "source": [
    "conteo = dataset[\"device_model\"].value_counts()\n",
    "colores = ['red', 'green', 'chocolate', 'pink', 'tomato']\n",
    "\n",
    "conteo.plot(kind='bar', color=colores, width=0.9, alpha=0.5)\n",
    "\n",
    "plt.title(\"Gráfico de Barras de la columna 'device_model'\")\n",
    "plt.xlabel(\"Categorias\")\n",
    "plt.ylabel(\"Frecuencia\")\n",
    "plt.grid(alpha=0.2)\n",
    "plt.xticks(rotation=45)\n",
    "plt.show()"
   ]
  },
  {
   "cell_type": "markdown",
   "id": "32240fd5",
   "metadata": {},
   "source": [
    "#### Creando un diagrama de torta (pie chart)"
   ]
  },
  {
   "cell_type": "code",
   "execution_count": 40,
   "id": "51cd144a",
   "metadata": {},
   "outputs": [
    {
     "data": {
      "image/png": "[encoded data removed]",
      "text/plain": [
       "<Figure size 640x480 with 1 Axes>"
      ]
     },
     "metadata": {},
     "output_type": "display_data"
    }
   ],
   "source": [
    "colores_pie_chart = ['gold', 'lightblue', 'lightcoral', 'lightgreen', 'tomato'] \n",
    "\n",
    "conteo.plot(kind='pie', autopct='%1.f%%', startangle=90, colors=colores_pie_chart)\n",
    "\n",
    "\n",
    "plt.title(\"Gráfico de torta de la columna 'device_model'\")\n",
    "plt.tight_layout()\n",
    "plt.show()"
   ]
  }
 ],
 "metadata": {
  "kernelspec": {
   "display_name": "eda_env",
   "language": "python",
   "name": "python3"
  },
  "language_info": {
   "codemirror_mode": {
    "name": "ipython",
    "version": 3
   },
   "file_extension": ".py",
   "mimetype": "text/x-python",
   "name": "python",
   "nbconvert_exporter": "python",
   "pygments_lexer": "ipython3",
   "version": "3.11.2"
  }
 },
 "nbformat": 4,
 "nbformat_minor": 5
}
