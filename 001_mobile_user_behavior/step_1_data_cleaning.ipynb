{
 "cells": [
  {
   "cell_type": "markdown",
   "id": "f405863b",
   "metadata": {},
   "source": [
    "# Data cleaning - Mobile User Behavior"
   ]
  },
  {
   "cell_type": "markdown",
   "id": "e6f0dc24",
   "metadata": {},
   "source": [
    "## librerias y datos"
   ]
  },
  {
   "cell_type": "code",
   "execution_count": 1,
   "id": "898696df",
   "metadata": {},
   "outputs": [],
   "source": [
    "import pandas as pd"
   ]
  },
  {
   "cell_type": "code",
   "execution_count": 2,
   "id": "ec69c9b0",
   "metadata": {},
   "outputs": [],
   "source": [
    "original_dataset = pd.read_csv(\"user_behavior_dataset_original.csv\")"
   ]
  },
  {
   "cell_type": "markdown",
   "id": "1103f05a",
   "metadata": {},
   "source": [
    "## Exploracion inicial\n",
    "\n",
    "* head() >>> para ver los primeros registros\n",
    "* tail() >>> para ver los ultimos registros\n",
    "* shape >>> para ver el numero de filas y columnas. O la forma del dataset\n",
    "* info() >>> para ver informaciones generales del dataset y sus columnas"
   ]
  },
  {
   "cell_type": "code",
   "execution_count": 4,
   "id": "46b709fe",
   "metadata": {},
   "outputs": [
    {
     "data": {
      "text/html": [
       "<div>\n",
       "<style scoped>\n",
       "    .dataframe tbody tr th:only-of-type {\n",
       "        vertical-align: middle;\n",
       "    }\n",
       "\n",
       "    .dataframe tbody tr th {\n",
       "        vertical-align: top;\n",
       "    }\n",
       "\n",
       "    .dataframe thead th {\n",
       "        text-align: right;\n",
       "    }\n",
       "</style>\n",
       "<table border=\"1\" class=\"dataframe\">\n",
       "  <thead>\n",
       "    <tr style=\"text-align: right;\">\n",
       "      <th></th>\n",
       "      <th>User ID</th>\n",
       "      <th>Device Model</th>\n",
       "      <th>Operating System</th>\n",
       "      <th>App Usage Time (min/day)</th>\n",
       "      <th>Screen On Time (hours/day)</th>\n",
       "      <th>Battery Drain (mAh/day)</th>\n",
       "      <th>Number of Apps Installed</th>\n",
       "      <th>Data Usage (MB/day)</th>\n",
       "      <th>Age</th>\n",
       "      <th>Gender</th>\n",
       "      <th>User Behavior Class</th>\n",
       "    </tr>\n",
       "  </thead>\n",
       "  <tbody>\n",
       "    <tr>\n",
       "      <th>0</th>\n",
       "      <td>1</td>\n",
       "      <td>Google Pixel 5</td>\n",
       "      <td>Android</td>\n",
       "      <td>393</td>\n",
       "      <td>6.4</td>\n",
       "      <td>1872</td>\n",
       "      <td>67</td>\n",
       "      <td>1122</td>\n",
       "      <td>40</td>\n",
       "      <td>Male</td>\n",
       "      <td>4</td>\n",
       "    </tr>\n",
       "    <tr>\n",
       "      <th>1</th>\n",
       "      <td>2</td>\n",
       "      <td>OnePlus 9</td>\n",
       "      <td>Android</td>\n",
       "      <td>268</td>\n",
       "      <td>4.7</td>\n",
       "      <td>1331</td>\n",
       "      <td>42</td>\n",
       "      <td>944</td>\n",
       "      <td>47</td>\n",
       "      <td>Female</td>\n",
       "      <td>3</td>\n",
       "    </tr>\n",
       "    <tr>\n",
       "      <th>2</th>\n",
       "      <td>3</td>\n",
       "      <td>Xiaomi Mi 11</td>\n",
       "      <td>Android</td>\n",
       "      <td>154</td>\n",
       "      <td>4.0</td>\n",
       "      <td>761</td>\n",
       "      <td>32</td>\n",
       "      <td>322</td>\n",
       "      <td>42</td>\n",
       "      <td>Male</td>\n",
       "      <td>2</td>\n",
       "    </tr>\n",
       "    <tr>\n",
       "      <th>3</th>\n",
       "      <td>4</td>\n",
       "      <td>Google Pixel 5</td>\n",
       "      <td>Android</td>\n",
       "      <td>239</td>\n",
       "      <td>4.8</td>\n",
       "      <td>1676</td>\n",
       "      <td>56</td>\n",
       "      <td>871</td>\n",
       "      <td>20</td>\n",
       "      <td>Male</td>\n",
       "      <td>3</td>\n",
       "    </tr>\n",
       "  </tbody>\n",
       "</table>\n",
       "</div>"
      ],
      "text/plain": [
       "   User ID    Device Model Operating System  App Usage Time (min/day)  \\\n",
       "0        1  Google Pixel 5          Android                       393   \n",
       "1        2       OnePlus 9          Android                       268   \n",
       "2        3    Xiaomi Mi 11          Android                       154   \n",
       "3        4  Google Pixel 5          Android                       239   \n",
       "\n",
       "   Screen On Time (hours/day)  Battery Drain (mAh/day)  \\\n",
       "0                         6.4                     1872   \n",
       "1                         4.7                     1331   \n",
       "2                         4.0                      761   \n",
       "3                         4.8                     1676   \n",
       "\n",
       "   Number of Apps Installed  Data Usage (MB/day)  Age  Gender  \\\n",
       "0                        67                 1122   40    Male   \n",
       "1                        42                  944   47  Female   \n",
       "2                        32                  322   42    Male   \n",
       "3                        56                  871   20    Male   \n",
       "\n",
       "   User Behavior Class  \n",
       "0                    4  \n",
       "1                    3  \n",
       "2                    2  \n",
       "3                    3  "
      ]
     },
     "execution_count": 4,
     "metadata": {},
     "output_type": "execute_result"
    }
   ],
   "source": [
    "original_dataset.head(4)"
   ]
  },
  {
   "cell_type": "code",
   "execution_count": 5,
   "id": "a764561a",
   "metadata": {},
   "outputs": [
    {
     "data": {
      "text/html": [
       "<div>\n",
       "<style scoped>\n",
       "    .dataframe tbody tr th:only-of-type {\n",
       "        vertical-align: middle;\n",
       "    }\n",
       "\n",
       "    .dataframe tbody tr th {\n",
       "        vertical-align: top;\n",
       "    }\n",
       "\n",
       "    .dataframe thead th {\n",
       "        text-align: right;\n",
       "    }\n",
       "</style>\n",
       "<table border=\"1\" class=\"dataframe\">\n",
       "  <thead>\n",
       "    <tr style=\"text-align: right;\">\n",
       "      <th></th>\n",
       "      <th>User ID</th>\n",
       "      <th>Device Model</th>\n",
       "      <th>Operating System</th>\n",
       "      <th>App Usage Time (min/day)</th>\n",
       "      <th>Screen On Time (hours/day)</th>\n",
       "      <th>Battery Drain (mAh/day)</th>\n",
       "      <th>Number of Apps Installed</th>\n",
       "      <th>Data Usage (MB/day)</th>\n",
       "      <th>Age</th>\n",
       "      <th>Gender</th>\n",
       "      <th>User Behavior Class</th>\n",
       "    </tr>\n",
       "  </thead>\n",
       "  <tbody>\n",
       "    <tr>\n",
       "      <th>696</th>\n",
       "      <td>697</td>\n",
       "      <td>Xiaomi Mi 11</td>\n",
       "      <td>Android</td>\n",
       "      <td>316</td>\n",
       "      <td>6.8</td>\n",
       "      <td>1965</td>\n",
       "      <td>68</td>\n",
       "      <td>1201</td>\n",
       "      <td>59</td>\n",
       "      <td>Male</td>\n",
       "      <td>4</td>\n",
       "    </tr>\n",
       "    <tr>\n",
       "      <th>697</th>\n",
       "      <td>698</td>\n",
       "      <td>Google Pixel 5</td>\n",
       "      <td>Android</td>\n",
       "      <td>99</td>\n",
       "      <td>3.1</td>\n",
       "      <td>942</td>\n",
       "      <td>22</td>\n",
       "      <td>457</td>\n",
       "      <td>50</td>\n",
       "      <td>Female</td>\n",
       "      <td>2</td>\n",
       "    </tr>\n",
       "    <tr>\n",
       "      <th>698</th>\n",
       "      <td>699</td>\n",
       "      <td>Samsung Galaxy S21</td>\n",
       "      <td>Android</td>\n",
       "      <td>62</td>\n",
       "      <td>1.7</td>\n",
       "      <td>431</td>\n",
       "      <td>13</td>\n",
       "      <td>224</td>\n",
       "      <td>44</td>\n",
       "      <td>Male</td>\n",
       "      <td>1</td>\n",
       "    </tr>\n",
       "    <tr>\n",
       "      <th>699</th>\n",
       "      <td>700</td>\n",
       "      <td>OnePlus 9</td>\n",
       "      <td>Android</td>\n",
       "      <td>212</td>\n",
       "      <td>5.4</td>\n",
       "      <td>1306</td>\n",
       "      <td>49</td>\n",
       "      <td>828</td>\n",
       "      <td>23</td>\n",
       "      <td>Female</td>\n",
       "      <td>3</td>\n",
       "    </tr>\n",
       "  </tbody>\n",
       "</table>\n",
       "</div>"
      ],
      "text/plain": [
       "     User ID        Device Model Operating System  App Usage Time (min/day)  \\\n",
       "696      697        Xiaomi Mi 11          Android                       316   \n",
       "697      698      Google Pixel 5          Android                        99   \n",
       "698      699  Samsung Galaxy S21          Android                        62   \n",
       "699      700           OnePlus 9          Android                       212   \n",
       "\n",
       "     Screen On Time (hours/day)  Battery Drain (mAh/day)  \\\n",
       "696                         6.8                     1965   \n",
       "697                         3.1                      942   \n",
       "698                         1.7                      431   \n",
       "699                         5.4                     1306   \n",
       "\n",
       "     Number of Apps Installed  Data Usage (MB/day)  Age  Gender  \\\n",
       "696                        68                 1201   59    Male   \n",
       "697                        22                  457   50  Female   \n",
       "698                        13                  224   44    Male   \n",
       "699                        49                  828   23  Female   \n",
       "\n",
       "     User Behavior Class  \n",
       "696                    4  \n",
       "697                    2  \n",
       "698                    1  \n",
       "699                    3  "
      ]
     },
     "execution_count": 5,
     "metadata": {},
     "output_type": "execute_result"
    }
   ],
   "source": [
    "original_dataset.tail(4)"
   ]
  },
  {
   "cell_type": "code",
   "execution_count": 6,
   "id": "f42b3444",
   "metadata": {},
   "outputs": [
    {
     "name": "stdout",
     "output_type": "stream",
     "text": [
      "<class 'pandas.core.frame.DataFrame'>\n",
      "RangeIndex: 700 entries, 0 to 699\n",
      "Data columns (total 11 columns):\n",
      " #   Column                      Non-Null Count  Dtype  \n",
      "---  ------                      --------------  -----  \n",
      " 0   User ID                     700 non-null    int64  \n",
      " 1   Device Model                700 non-null    object \n",
      " 2   Operating System            700 non-null    object \n",
      " 3   App Usage Time (min/day)    700 non-null    int64  \n",
      " 4   Screen On Time (hours/day)  700 non-null    float64\n",
      " 5   Battery Drain (mAh/day)     700 non-null    int64  \n",
      " 6   Number of Apps Installed    700 non-null    int64  \n",
      " 7   Data Usage (MB/day)         700 non-null    int64  \n",
      " 8   Age                         700 non-null    int64  \n",
      " 9   Gender                      700 non-null    object \n",
      " 10  User Behavior Class         700 non-null    int64  \n",
      "dtypes: float64(1), int64(7), object(3)\n",
      "memory usage: 60.3+ KB\n"
     ]
    }
   ],
   "source": [
    "original_dataset.info()"
   ]
  },
  {
   "cell_type": "code",
   "execution_count": 7,
   "id": "e6d037b6",
   "metadata": {},
   "outputs": [
    {
     "data": {
      "text/plain": [
       "(700, 11)"
      ]
     },
     "execution_count": 7,
     "metadata": {},
     "output_type": "execute_result"
    }
   ],
   "source": [
    "original_dataset.shape"
   ]
  },
  {
   "cell_type": "markdown",
   "id": "71f45151",
   "metadata": {},
   "source": [
    "## Data cleaning"
   ]
  },
  {
   "cell_type": "markdown",
   "id": "c72b6fd0",
   "metadata": {},
   "source": [
    "### Valores nulos\n",
    "\n",
    "Buscar por valores nulos en el dataset"
   ]
  },
  {
   "cell_type": "code",
   "execution_count": 9,
   "id": "e1f49f14",
   "metadata": {},
   "outputs": [
    {
     "data": {
      "text/plain": [
       "User ID                       0\n",
       "Device Model                  0\n",
       "Operating System              0\n",
       "App Usage Time (min/day)      0\n",
       "Screen On Time (hours/day)    0\n",
       "Battery Drain (mAh/day)       0\n",
       "Number of Apps Installed      0\n",
       "Data Usage (MB/day)           0\n",
       "Age                           0\n",
       "Gender                        0\n",
       "User Behavior Class           0\n",
       "dtype: int64"
      ]
     },
     "execution_count": 9,
     "metadata": {},
     "output_type": "execute_result"
    }
   ],
   "source": [
    "original_dataset.isnull().sum()"
   ]
  },
  {
   "cell_type": "markdown",
   "id": "f204d624",
   "metadata": {},
   "source": [
    "### Valores duplicados\n",
    "\n",
    "Buscar por valores duplicados"
   ]
  },
  {
   "cell_type": "code",
   "execution_count": 11,
   "id": "a567a998",
   "metadata": {},
   "outputs": [
    {
     "data": {
      "text/plain": [
       "np.int64(0)"
      ]
     },
     "execution_count": 11,
     "metadata": {},
     "output_type": "execute_result"
    }
   ],
   "source": [
    "original_dataset.duplicated().sum()"
   ]
  },
  {
   "cell_type": "markdown",
   "id": "20618ee4",
   "metadata": {},
   "source": [
    "### Valores de columnas\n",
    "\n",
    "Verificar los valores de cada columna, para buscar por inconsistencias."
   ]
  },
  {
   "cell_type": "code",
   "execution_count": 12,
   "id": "6794970a",
   "metadata": {},
   "outputs": [
    {
     "data": {
      "text/plain": [
       "Device Model\n",
       "Xiaomi Mi 11          146\n",
       "iPhone 12             146\n",
       "Google Pixel 5        142\n",
       "OnePlus 9             133\n",
       "Samsung Galaxy S21    133\n",
       "Name: count, dtype: int64"
      ]
     },
     "execution_count": 12,
     "metadata": {},
     "output_type": "execute_result"
    }
   ],
   "source": [
    "original_dataset[\"Device Model\"].value_counts()"
   ]
  },
  {
   "cell_type": "code",
   "execution_count": 15,
   "id": "e60e40b4",
   "metadata": {},
   "outputs": [
    {
     "data": {
      "text/plain": [
       "Gender\n",
       "Male      364\n",
       "Female    336\n",
       "Name: count, dtype: int64"
      ]
     },
     "execution_count": 15,
     "metadata": {},
     "output_type": "execute_result"
    }
   ],
   "source": [
    "original_dataset[\"Gender\"].value_counts()"
   ]
  },
  {
   "cell_type": "code",
   "execution_count": 16,
   "id": "80491793",
   "metadata": {},
   "outputs": [
    {
     "data": {
      "text/plain": [
       "Operating System\n",
       "Android    554\n",
       "iOS        146\n",
       "Name: count, dtype: int64"
      ]
     },
     "execution_count": 16,
     "metadata": {},
     "output_type": "execute_result"
    }
   ],
   "source": [
    "original_dataset[\"Operating System\"].value_counts()"
   ]
  },
  {
   "cell_type": "code",
   "execution_count": 17,
   "id": "3497b1f7",
   "metadata": {},
   "outputs": [
    {
     "data": {
      "text/plain": [
       "User Behavior Class\n",
       "2    146\n",
       "3    143\n",
       "4    139\n",
       "5    136\n",
       "1    136\n",
       "Name: count, dtype: int64"
      ]
     },
     "execution_count": 17,
     "metadata": {},
     "output_type": "execute_result"
    }
   ],
   "source": [
    "original_dataset[\"User Behavior Class\"].value_counts()"
   ]
  },
  {
   "cell_type": "markdown",
   "id": "44e51a7a",
   "metadata": {},
   "source": [
    "Definir la columna \"User Behavior Class\", pues el titulo no sugiere de que se trata."
   ]
  },
  {
   "cell_type": "code",
   "execution_count": null,
   "id": "93ed5b70",
   "metadata": {},
   "outputs": [],
   "source": []
  }
 ],
 "metadata": {
  "kernelspec": {
   "display_name": "eda_env",
   "language": "python",
   "name": "python3"
  },
  "language_info": {
   "codemirror_mode": {
    "name": "ipython",
    "version": 3
   },
   "file_extension": ".py",
   "mimetype": "text/x-python",
   "name": "python",
   "nbconvert_exporter": "python",
   "pygments_lexer": "ipython3",
   "version": "3.11.2"
  }
 },
 "nbformat": 4,
 "nbformat_minor": 5
}
