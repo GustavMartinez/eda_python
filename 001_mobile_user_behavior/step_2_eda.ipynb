{
 "cells": [
  {
   "cell_type": "markdown",
   "id": "b86cb02a",
   "metadata": {},
   "source": [
    "# EDA - Mobile User Behavior"
   ]
  },
  {
   "cell_type": "markdown",
   "id": "3500cc10",
   "metadata": {},
   "source": [
    "## Importar librerias y cargar los datos"
   ]
  },
  {
   "cell_type": "code",
   "execution_count": null,
   "id": "11032478",
   "metadata": {},
   "outputs": [],
   "source": [
    "# Importar librerias\n",
    "\n",
    "import pandas as pd\n",
    "import numpy as np\n",
    "import matplotlib.pyplot as plt\n",
    "import seaborn as sns"
   ]
  },
  {
   "cell_type": "code",
   "execution_count": 7,
   "id": "86b69d8d",
   "metadata": {},
   "outputs": [],
   "source": [
    "# Cargar los datos\n",
    "\n",
    "dataset = pd.read_csv(\"user_behavior_dataset.csv\")"
   ]
  },
  {
   "cell_type": "markdown",
   "id": "5fda2e8c",
   "metadata": {},
   "source": [
    "## Vista general del dataset"
   ]
  },
  {
   "cell_type": "markdown",
   "id": "74bbe6bb",
   "metadata": {},
   "source": [
    "## Limpieza de datos"
   ]
  },
  {
   "cell_type": "markdown",
   "id": "2ca48e42",
   "metadata": {},
   "source": [
    "### Valores unicos en columnas categoricas"
   ]
  },
  {
   "cell_type": "code",
   "execution_count": 17,
   "id": "675a2dc7",
   "metadata": {},
   "outputs": [
    {
     "data": {
      "text/plain": [
       "array(['Google Pixel 5', 'OnePlus 9', 'Xiaomi Mi 11', 'iPhone 12',\n",
       "       'Samsung Galaxy S21'], dtype=object)"
      ]
     },
     "execution_count": 17,
     "metadata": {},
     "output_type": "execute_result"
    }
   ],
   "source": [
    "dataset[\"Device Model\"].unique()"
   ]
  },
  {
   "cell_type": "code",
   "execution_count": 18,
   "id": "446e27a6",
   "metadata": {},
   "outputs": [
    {
     "data": {
      "text/plain": [
       "array(['Android', 'iOS'], dtype=object)"
      ]
     },
     "execution_count": 18,
     "metadata": {},
     "output_type": "execute_result"
    }
   ],
   "source": [
    "dataset[\"Operating System\"].unique()"
   ]
  },
  {
   "cell_type": "code",
   "execution_count": 19,
   "id": "ac746a14",
   "metadata": {},
   "outputs": [
    {
     "data": {
      "text/plain": [
       "array(['Male', 'Female'], dtype=object)"
      ]
     },
     "execution_count": 19,
     "metadata": {},
     "output_type": "execute_result"
    }
   ],
   "source": [
    "dataset[\"Gender\"].unique()"
   ]
  },
  {
   "cell_type": "code",
   "execution_count": null,
   "id": "6b201094",
   "metadata": {},
   "outputs": [],
   "source": []
  }
 ],
 "metadata": {
  "kernelspec": {
   "display_name": "eda_env",
   "language": "python",
   "name": "python3"
  },
  "language_info": {
   "codemirror_mode": {
    "name": "ipython",
    "version": 3
   },
   "file_extension": ".py",
   "mimetype": "text/x-python",
   "name": "python",
   "nbconvert_exporter": "python",
   "pygments_lexer": "ipython3",
   "version": "3.11.2"
  }
 },
 "nbformat": 4,
 "nbformat_minor": 5
}
