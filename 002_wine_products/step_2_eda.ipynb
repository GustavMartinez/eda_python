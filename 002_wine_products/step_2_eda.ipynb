{
 "cells": [
  {
   "cell_type": "markdown",
   "id": "049689df",
   "metadata": {},
   "source": [
    "# Análisis Exploratorio de Datos (EDA): Enfoque Univariado y Multivariado"
   ]
  },
  {
   "cell_type": "markdown",
   "id": "7cff4c18",
   "metadata": {},
   "source": [
    "## librerias y datos"
   ]
  },
  {
   "cell_type": "code",
   "execution_count": 3,
   "id": "7779c04f",
   "metadata": {},
   "outputs": [],
   "source": [
    "import pandas as pd\n",
    "import seaborn as sns\n",
    "import matplotlib.pyplot as plt\n",
    "import numpy as np"
   ]
  },
  {
   "cell_type": "code",
   "execution_count": 4,
   "id": "77c17cf9",
   "metadata": {},
   "outputs": [],
   "source": [
    "dataset = pd.read_csv(\"wine_dataset_clean.csv\")"
   ]
  },
  {
   "cell_type": "code",
   "execution_count": 8,
   "id": "aa921a83",
   "metadata": {},
   "outputs": [
    {
     "name": "stdout",
     "output_type": "stream",
     "text": [
      "<class 'pandas.core.frame.DataFrame'>\n",
      "RangeIndex: 111439 entries, 0 to 111438\n",
      "Data columns (total 6 columns):\n",
      " #   Column    Non-Null Count   Dtype  \n",
      "---  ------    --------------   -----  \n",
      " 0   country   111439 non-null  object \n",
      " 1   province  111439 non-null  object \n",
      " 2   points    111439 non-null  int64  \n",
      " 3   price     111439 non-null  float64\n",
      " 4   variety   111439 non-null  object \n",
      " 5   title     111439 non-null  object \n",
      "dtypes: float64(1), int64(1), object(4)\n",
      "memory usage: 5.1+ MB\n"
     ]
    }
   ],
   "source": [
    "dataset.info()"
   ]
  },
  {
   "cell_type": "markdown",
   "id": "c886006c",
   "metadata": {},
   "source": [
    "## Análisis Univariado"
   ]
  },
  {
   "cell_type": "markdown",
   "id": "cdc842db",
   "metadata": {},
   "source": [
    "### Columna \"country\" - pais\n",
    "El EDA de datos univariados se utilizo para analizar los datos de la columna \"country\""
   ]
  },
  {
   "cell_type": "markdown",
   "id": "5acadcaf",
   "metadata": {},
   "source": [
    "Existen 63 valores nulos en esta columna"
   ]
  },
  {
   "cell_type": "code",
   "execution_count": 7,
   "id": "1ebcf49f",
   "metadata": {},
   "outputs": [
    {
     "data": {
      "text/plain": [
       "array(['Portugal', 'US', 'Spain', 'Italy', 'France', 'Germany',\n",
       "       'Argentina', 'Chile', 'Australia', 'Austria', 'South Africa',\n",
       "       'New Zealand', 'Israel', 'Hungary', 'Greece', 'Romania', 'Mexico',\n",
       "       'Canada', 'Turkey', 'Czech Republic', 'Slovenia', 'Luxembourg',\n",
       "       'Croatia', 'Georgia', 'Uruguay', 'England', 'Lebanon', 'Serbia',\n",
       "       'Brazil', 'Moldova', 'Morocco', 'Peru', 'India', 'Bulgaria',\n",
       "       'Cyprus', 'Armenia', 'Switzerland', 'Bosnia and Herzegovina',\n",
       "       'Ukraine', 'Slovakia', 'Macedonia', 'China'], dtype=object)"
      ]
     },
     "execution_count": 7,
     "metadata": {},
     "output_type": "execute_result"
    }
   ],
   "source": [
    "dataset[\"country\"].unique()"
   ]
  },
  {
   "cell_type": "markdown",
   "id": "5de9195f",
   "metadata": {},
   "source": [
    "### Columna \"province\" - Provincia"
   ]
  },
  {
   "cell_type": "markdown",
   "id": "b0d3db1c",
   "metadata": {},
   "source": [
    "### Columna \"Points\" - Puntos"
   ]
  },
  {
   "cell_type": "markdown",
   "id": "3863c94e",
   "metadata": {},
   "source": [
    "### Columna \"Price\" - Precio"
   ]
  },
  {
   "cell_type": "markdown",
   "id": "212c6bd6",
   "metadata": {},
   "source": [
    "### Columna \"Variety\" - Variedad"
   ]
  },
  {
   "cell_type": "markdown",
   "id": "1202a807",
   "metadata": {},
   "source": [
    "### Columna \"title\" - titulo"
   ]
  },
  {
   "cell_type": "markdown",
   "id": "330c8418",
   "metadata": {},
   "source": []
  }
 ],
 "metadata": {
  "kernelspec": {
   "display_name": "eda_env",
   "language": "python",
   "name": "python3"
  },
  "language_info": {
   "codemirror_mode": {
    "name": "ipython",
    "version": 3
   },
   "file_extension": ".py",
   "mimetype": "text/x-python",
   "name": "python",
   "nbconvert_exporter": "python",
   "pygments_lexer": "ipython3",
   "version": "3.11.2"
  }
 },
 "nbformat": 4,
 "nbformat_minor": 5
}
