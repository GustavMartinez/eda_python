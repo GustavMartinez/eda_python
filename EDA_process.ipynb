{
 "cells": [
  {
   "cell_type": "markdown",
   "metadata": {},
   "source": [
    "# Exploratory data Analysis basic structure"
   ]
  },
  {
   "cell_type": "markdown",
   "metadata": {},
   "source": [
    "## Step 0: Imports and Reading Data"
   ]
  },
  {
   "cell_type": "code",
   "execution_count": 1,
   "metadata": {},
   "outputs": [],
   "source": [
    "import pandas as pd\n",
    "import numpy as np\n",
    "import matplotlib.pyplot as plt\n",
    "import seaborn as sns\n",
    "\"\"\" \n",
    "Optionals:\n",
    "\n",
    "plt.style.use('ggplot)\n",
    "pd.set_option('max_columns', 200)\n",
    "\n",
    "\"\"\"\n",
    "pass"
   ]
  },
  {
   "cell_type": "code",
   "execution_count": 4,
   "metadata": {},
   "outputs": [],
   "source": [
    "\"\"\"\n",
    "IMPORT DATA\n",
    "\n",
    "df = pd.read_csv(....path....)\n",
    "\n",
    "\"\"\"\n",
    "pass"
   ]
  },
  {
   "cell_type": "markdown",
   "metadata": {},
   "source": [
    "## Step 1: Data Understanding\n",
    "\n",
    "<li>Dataframe shape\n",
    "<li>head and tail\n",
    "<li>dtypes\n",
    "<li>describe\n",
    "<li>columns"
   ]
  },
  {
   "cell_type": "markdown",
   "metadata": {},
   "source": [
    "## Step 2: Data preparation\n",
    "\n",
    "<li>Dropping irrelevant columns and rows >> df = df[['columns of interest']].copy()\n",
    "<li>Transform object type to datetype >> df['column name'] = pd.to_datetime(df['column name'])\n",
    "<li>Transform string type to numeric >> df['column name'] = pd.to_numeric(df['column name'])\n",
    "<li>Renaming Columns\n",
    "<li>Identifying null values  >> df.isna().sum()\n",
    "<li>Identifying duplicated columns >> df.duplicated()"
   ]
  },
  {
   "cell_type": "markdown",
   "metadata": {},
   "source": [
    "## Step 3: Feature Understanding\n",
    "\n",
    "(Univariate analysis)\n",
    "<li>Ploting Feature Distributions\n",
    "<ul>\n",
    "<li>Histogram\n",
    "<li>KDE\n",
    "<li>Boxplot"
   ]
  },
  {
   "cell_type": "markdown",
   "metadata": {},
   "source": [
    "## Step 4: Feature Relationships\n",
    "\n",
    "<li>Scatterplot\n",
    "<li>Pairplot\n",
    "<li>Correlation\n",
    "<li>Heatmap Correlation\n",
    "<li>Groupby comparisons"
   ]
  },
  {
   "cell_type": "markdown",
   "metadata": {},
   "source": [
    "## Step 5: Ask a question about the data\n",
    "\n",
    "<li> Try to answer a question you have about the data using a plot or statistic\n",
    "<ul>Examples:\n",
    "<li>What are the locations with the fastest roller coasters (location with minimum of 10)?"
   ]
  },
  {
   "cell_type": "code",
   "execution_count": null,
   "metadata": {},
   "outputs": [],
   "source": []
  }
 ],
 "metadata": {
  "kernelspec": {
   "display_name": "env_viz",
   "language": "python",
   "name": "python3"
  },
  "language_info": {
   "codemirror_mode": {
    "name": "ipython",
    "version": 3
   },
   "file_extension": ".py",
   "mimetype": "text/x-python",
   "name": "python",
   "nbconvert_exporter": "python",
   "pygments_lexer": "ipython3",
   "version": "3.11.2"
  }
 },
 "nbformat": 4,
 "nbformat_minor": 2
}
