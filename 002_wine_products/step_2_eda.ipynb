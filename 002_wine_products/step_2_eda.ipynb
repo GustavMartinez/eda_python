{
 "cells": [
  {
   "cell_type": "markdown",
   "id": "049689df",
   "metadata": {},
   "source": [
    "# Análisis Exploratorio de Datos (EDA): Enfoque Univariado y Multivariado"
   ]
  },
  {
   "cell_type": "markdown",
   "id": "7cff4c18",
   "metadata": {},
   "source": [
    "## librerias y datos"
   ]
  },
  {
   "cell_type": "code",
   "execution_count": 1,
   "id": "7779c04f",
   "metadata": {},
   "outputs": [],
   "source": [
    "import pandas as pd\n",
    "import seaborn as sns\n",
    "import matplotlib.pyplot as plt\n",
    "import numpy as np"
   ]
  },
  {
   "cell_type": "code",
   "execution_count": 2,
   "id": "77c17cf9",
   "metadata": {},
   "outputs": [],
   "source": [
    "dataset = pd.read_csv(\"wine_dataset_clean.csv\")"
   ]
  },
  {
   "cell_type": "code",
   "execution_count": 3,
   "id": "aa921a83",
   "metadata": {},
   "outputs": [
    {
     "name": "stdout",
     "output_type": "stream",
     "text": [
      "<class 'pandas.core.frame.DataFrame'>\n",
      "RangeIndex: 111439 entries, 0 to 111438\n",
      "Data columns (total 6 columns):\n",
      " #   Column    Non-Null Count   Dtype  \n",
      "---  ------    --------------   -----  \n",
      " 0   country   111439 non-null  object \n",
      " 1   province  111439 non-null  object \n",
      " 2   points    111439 non-null  int64  \n",
      " 3   price     111439 non-null  float64\n",
      " 4   variety   111439 non-null  object \n",
      " 5   title     111439 non-null  object \n",
      "dtypes: float64(1), int64(1), object(4)\n",
      "memory usage: 5.1+ MB\n"
     ]
    }
   ],
   "source": [
    "dataset.info()"
   ]
  },
  {
   "cell_type": "markdown",
   "id": "c886006c",
   "metadata": {},
   "source": [
    "## Análisis Univariado"
   ]
  },
  {
   "cell_type": "markdown",
   "id": "cdc842db",
   "metadata": {},
   "source": [
    "### Columna \"country\" - pais. Análisis no-gráfico\n",
    "El EDA de datos univariados se utilizo para analizar los datos de la columna \"country\""
   ]
  },
  {
   "cell_type": "markdown",
   "id": "f3a1e3b4",
   "metadata": {},
   "source": [
    "#### Categorias únicas - número de paises"
   ]
  },
  {
   "cell_type": "code",
   "execution_count": 4,
   "id": "9982ec2b",
   "metadata": {},
   "outputs": [
    {
     "name": "stdout",
     "output_type": "stream",
     "text": [
      "['Portugal' 'US' 'Spain' 'Italy' 'France' 'Germany' 'Argentina' 'Chile'\n",
      " 'Australia' 'Austria' 'South Africa' 'New Zealand' 'Israel' 'Hungary'\n",
      " 'Greece' 'Romania' 'Mexico' 'Canada' 'Turkey' 'Czech Republic' 'Slovenia'\n",
      " 'Luxembourg' 'Croatia' 'Georgia' 'Uruguay' 'England' 'Lebanon' 'Serbia'\n",
      " 'Brazil' 'Moldova' 'Morocco' 'Peru' 'India' 'Bulgaria' 'Cyprus' 'Armenia'\n",
      " 'Switzerland' 'Bosnia and Herzegovina' 'Ukraine' 'Slovakia' 'Macedonia'\n",
      " 'China']\n"
     ]
    }
   ],
   "source": [
    "categorias_unicas = dataset[\"country\"].unique()\n",
    "print(categorias_unicas)"
   ]
  },
  {
   "cell_type": "code",
   "execution_count": 5,
   "id": "1ebcf49f",
   "metadata": {},
   "outputs": [
    {
     "name": "stdout",
     "output_type": "stream",
     "text": [
      "42\n"
     ]
    }
   ],
   "source": [
    "categorias_unicas = dataset[\"country\"].nunique()\n",
    "print(categorias_unicas)"
   ]
  },
  {
   "cell_type": "markdown",
   "id": "60319c79",
   "metadata": {},
   "source": [
    "#### Frecuencia absoluta"
   ]
  },
  {
   "cell_type": "markdown",
   "id": "35b87ab7",
   "metadata": {},
   "source": [
    "En lugar de mostrar todos los países, mostrar aquellos con más de 1000 registros"
   ]
  },
  {
   "cell_type": "code",
   "execution_count": 7,
   "id": "294ef6be",
   "metadata": {},
   "outputs": [
    {
     "data": {
      "text/html": [
       "<div>\n",
       "<style scoped>\n",
       "    .dataframe tbody tr th:only-of-type {\n",
       "        vertical-align: middle;\n",
       "    }\n",
       "\n",
       "    .dataframe tbody tr th {\n",
       "        vertical-align: top;\n",
       "    }\n",
       "\n",
       "    .dataframe thead th {\n",
       "        text-align: right;\n",
       "    }\n",
       "</style>\n",
       "<table border=\"1\" class=\"dataframe\">\n",
       "  <thead>\n",
       "    <tr style=\"text-align: right;\">\n",
       "      <th></th>\n",
       "      <th>country</th>\n",
       "      <th>count</th>\n",
       "    </tr>\n",
       "  </thead>\n",
       "  <tbody>\n",
       "    <tr>\n",
       "      <th>0</th>\n",
       "      <td>US</td>\n",
       "      <td>50215</td>\n",
       "    </tr>\n",
       "    <tr>\n",
       "      <th>1</th>\n",
       "      <td>France</td>\n",
       "      <td>16254</td>\n",
       "    </tr>\n",
       "    <tr>\n",
       "      <th>2</th>\n",
       "      <td>Italy</td>\n",
       "      <td>15487</td>\n",
       "    </tr>\n",
       "    <tr>\n",
       "      <th>3</th>\n",
       "      <td>Spain</td>\n",
       "      <td>6032</td>\n",
       "    </tr>\n",
       "    <tr>\n",
       "      <th>4</th>\n",
       "      <td>Portugal</td>\n",
       "      <td>4501</td>\n",
       "    </tr>\n",
       "    <tr>\n",
       "      <th>5</th>\n",
       "      <td>Chile</td>\n",
       "      <td>4129</td>\n",
       "    </tr>\n",
       "    <tr>\n",
       "      <th>6</th>\n",
       "      <td>Argentina</td>\n",
       "      <td>3501</td>\n",
       "    </tr>\n",
       "    <tr>\n",
       "      <th>7</th>\n",
       "      <td>Austria</td>\n",
       "      <td>2535</td>\n",
       "    </tr>\n",
       "    <tr>\n",
       "      <th>8</th>\n",
       "      <td>Australia</td>\n",
       "      <td>2166</td>\n",
       "    </tr>\n",
       "    <tr>\n",
       "      <th>9</th>\n",
       "      <td>Germany</td>\n",
       "      <td>1951</td>\n",
       "    </tr>\n",
       "    <tr>\n",
       "      <th>10</th>\n",
       "      <td>New Zealand</td>\n",
       "      <td>1240</td>\n",
       "    </tr>\n",
       "    <tr>\n",
       "      <th>11</th>\n",
       "      <td>South Africa</td>\n",
       "      <td>1195</td>\n",
       "    </tr>\n",
       "    <tr>\n",
       "      <th>12</th>\n",
       "      <td>Israel</td>\n",
       "      <td>453</td>\n",
       "    </tr>\n",
       "    <tr>\n",
       "      <th>13</th>\n",
       "      <td>Greece</td>\n",
       "      <td>427</td>\n",
       "    </tr>\n",
       "    <tr>\n",
       "      <th>14</th>\n",
       "      <td>Canada</td>\n",
       "      <td>224</td>\n",
       "    </tr>\n",
       "    <tr>\n",
       "      <th>15</th>\n",
       "      <td>Bulgaria</td>\n",
       "      <td>132</td>\n",
       "    </tr>\n",
       "    <tr>\n",
       "      <th>16</th>\n",
       "      <td>Hungary</td>\n",
       "      <td>128</td>\n",
       "    </tr>\n",
       "    <tr>\n",
       "      <th>17</th>\n",
       "      <td>Romania</td>\n",
       "      <td>101</td>\n",
       "    </tr>\n",
       "    <tr>\n",
       "      <th>18</th>\n",
       "      <td>Uruguay</td>\n",
       "      <td>98</td>\n",
       "    </tr>\n",
       "    <tr>\n",
       "      <th>19</th>\n",
       "      <td>Turkey</td>\n",
       "      <td>80</td>\n",
       "    </tr>\n",
       "    <tr>\n",
       "      <th>20</th>\n",
       "      <td>Georgia</td>\n",
       "      <td>74</td>\n",
       "    </tr>\n",
       "    <tr>\n",
       "      <th>21</th>\n",
       "      <td>Slovenia</td>\n",
       "      <td>70</td>\n",
       "    </tr>\n",
       "    <tr>\n",
       "      <th>22</th>\n",
       "      <td>Croatia</td>\n",
       "      <td>68</td>\n",
       "    </tr>\n",
       "    <tr>\n",
       "      <th>23</th>\n",
       "      <td>Mexico</td>\n",
       "      <td>68</td>\n",
       "    </tr>\n",
       "    <tr>\n",
       "      <th>24</th>\n",
       "      <td>England</td>\n",
       "      <td>59</td>\n",
       "    </tr>\n",
       "    <tr>\n",
       "      <th>25</th>\n",
       "      <td>Moldova</td>\n",
       "      <td>56</td>\n",
       "    </tr>\n",
       "    <tr>\n",
       "      <th>26</th>\n",
       "      <td>Brazil</td>\n",
       "      <td>44</td>\n",
       "    </tr>\n",
       "    <tr>\n",
       "      <th>27</th>\n",
       "      <td>Lebanon</td>\n",
       "      <td>32</td>\n",
       "    </tr>\n",
       "    <tr>\n",
       "      <th>28</th>\n",
       "      <td>Morocco</td>\n",
       "      <td>24</td>\n",
       "    </tr>\n",
       "    <tr>\n",
       "      <th>29</th>\n",
       "      <td>Peru</td>\n",
       "      <td>16</td>\n",
       "    </tr>\n",
       "    <tr>\n",
       "      <th>30</th>\n",
       "      <td>Ukraine</td>\n",
       "      <td>14</td>\n",
       "    </tr>\n",
       "    <tr>\n",
       "      <th>31</th>\n",
       "      <td>Czech Republic</td>\n",
       "      <td>11</td>\n",
       "    </tr>\n",
       "    <tr>\n",
       "      <th>32</th>\n",
       "      <td>Macedonia</td>\n",
       "      <td>11</td>\n",
       "    </tr>\n",
       "    <tr>\n",
       "      <th>33</th>\n",
       "      <td>Cyprus</td>\n",
       "      <td>10</td>\n",
       "    </tr>\n",
       "    <tr>\n",
       "      <th>34</th>\n",
       "      <td>India</td>\n",
       "      <td>8</td>\n",
       "    </tr>\n",
       "    <tr>\n",
       "      <th>35</th>\n",
       "      <td>Serbia</td>\n",
       "      <td>8</td>\n",
       "    </tr>\n",
       "    <tr>\n",
       "      <th>36</th>\n",
       "      <td>Switzerland</td>\n",
       "      <td>6</td>\n",
       "    </tr>\n",
       "    <tr>\n",
       "      <th>37</th>\n",
       "      <td>Luxembourg</td>\n",
       "      <td>5</td>\n",
       "    </tr>\n",
       "    <tr>\n",
       "      <th>38</th>\n",
       "      <td>Bosnia and Herzegovina</td>\n",
       "      <td>2</td>\n",
       "    </tr>\n",
       "    <tr>\n",
       "      <th>39</th>\n",
       "      <td>Armenia</td>\n",
       "      <td>2</td>\n",
       "    </tr>\n",
       "    <tr>\n",
       "      <th>40</th>\n",
       "      <td>Slovakia</td>\n",
       "      <td>1</td>\n",
       "    </tr>\n",
       "    <tr>\n",
       "      <th>41</th>\n",
       "      <td>China</td>\n",
       "      <td>1</td>\n",
       "    </tr>\n",
       "  </tbody>\n",
       "</table>\n",
       "</div>"
      ],
      "text/plain": [
       "                   country  count\n",
       "0                       US  50215\n",
       "1                   France  16254\n",
       "2                    Italy  15487\n",
       "3                    Spain   6032\n",
       "4                 Portugal   4501\n",
       "5                    Chile   4129\n",
       "6                Argentina   3501\n",
       "7                  Austria   2535\n",
       "8                Australia   2166\n",
       "9                  Germany   1951\n",
       "10             New Zealand   1240\n",
       "11            South Africa   1195\n",
       "12                  Israel    453\n",
       "13                  Greece    427\n",
       "14                  Canada    224\n",
       "15                Bulgaria    132\n",
       "16                 Hungary    128\n",
       "17                 Romania    101\n",
       "18                 Uruguay     98\n",
       "19                  Turkey     80\n",
       "20                 Georgia     74\n",
       "21                Slovenia     70\n",
       "22                 Croatia     68\n",
       "23                  Mexico     68\n",
       "24                 England     59\n",
       "25                 Moldova     56\n",
       "26                  Brazil     44\n",
       "27                 Lebanon     32\n",
       "28                 Morocco     24\n",
       "29                    Peru     16\n",
       "30                 Ukraine     14\n",
       "31          Czech Republic     11\n",
       "32               Macedonia     11\n",
       "33                  Cyprus     10\n",
       "34                   India      8\n",
       "35                  Serbia      8\n",
       "36             Switzerland      6\n",
       "37              Luxembourg      5\n",
       "38  Bosnia and Herzegovina      2\n",
       "39                 Armenia      2\n",
       "40                Slovakia      1\n",
       "41                   China      1"
      ]
     },
     "execution_count": 7,
     "metadata": {},
     "output_type": "execute_result"
    }
   ],
   "source": [
    "dataset[\"country\"].value_counts().rename_axis(\"country\").reset_index(name=\"count\")"
   ]
  },
  {
   "cell_type": "markdown",
   "id": "1c9e1e25",
   "metadata": {},
   "source": [
    "#### Frecuencia relativa"
   ]
  },
  {
   "cell_type": "markdown",
   "id": "06b65431",
   "metadata": {},
   "source": [
    "Seguir la idea del punto anterior - mostrar los mayores a 1000 registros"
   ]
  },
  {
   "cell_type": "code",
   "execution_count": 8,
   "id": "d685f5b7",
   "metadata": {},
   "outputs": [
    {
     "data": {
      "text/html": [
       "<div>\n",
       "<style scoped>\n",
       "    .dataframe tbody tr th:only-of-type {\n",
       "        vertical-align: middle;\n",
       "    }\n",
       "\n",
       "    .dataframe tbody tr th {\n",
       "        vertical-align: top;\n",
       "    }\n",
       "\n",
       "    .dataframe thead th {\n",
       "        text-align: right;\n",
       "    }\n",
       "</style>\n",
       "<table border=\"1\" class=\"dataframe\">\n",
       "  <thead>\n",
       "    <tr style=\"text-align: right;\">\n",
       "      <th></th>\n",
       "      <th>Country</th>\n",
       "      <th>porcentaje</th>\n",
       "    </tr>\n",
       "  </thead>\n",
       "  <tbody>\n",
       "    <tr>\n",
       "      <th>0</th>\n",
       "      <td>US</td>\n",
       "      <td>45.061</td>\n",
       "    </tr>\n",
       "    <tr>\n",
       "      <th>1</th>\n",
       "      <td>France</td>\n",
       "      <td>14.586</td>\n",
       "    </tr>\n",
       "    <tr>\n",
       "      <th>2</th>\n",
       "      <td>Italy</td>\n",
       "      <td>13.897</td>\n",
       "    </tr>\n",
       "    <tr>\n",
       "      <th>3</th>\n",
       "      <td>Spain</td>\n",
       "      <td>5.413</td>\n",
       "    </tr>\n",
       "    <tr>\n",
       "      <th>4</th>\n",
       "      <td>Portugal</td>\n",
       "      <td>4.039</td>\n",
       "    </tr>\n",
       "    <tr>\n",
       "      <th>5</th>\n",
       "      <td>Chile</td>\n",
       "      <td>3.705</td>\n",
       "    </tr>\n",
       "    <tr>\n",
       "      <th>6</th>\n",
       "      <td>Argentina</td>\n",
       "      <td>3.142</td>\n",
       "    </tr>\n",
       "    <tr>\n",
       "      <th>7</th>\n",
       "      <td>Austria</td>\n",
       "      <td>2.275</td>\n",
       "    </tr>\n",
       "    <tr>\n",
       "      <th>8</th>\n",
       "      <td>Australia</td>\n",
       "      <td>1.944</td>\n",
       "    </tr>\n",
       "    <tr>\n",
       "      <th>9</th>\n",
       "      <td>Germany</td>\n",
       "      <td>1.751</td>\n",
       "    </tr>\n",
       "    <tr>\n",
       "      <th>10</th>\n",
       "      <td>New Zealand</td>\n",
       "      <td>1.113</td>\n",
       "    </tr>\n",
       "    <tr>\n",
       "      <th>11</th>\n",
       "      <td>South Africa</td>\n",
       "      <td>1.072</td>\n",
       "    </tr>\n",
       "    <tr>\n",
       "      <th>12</th>\n",
       "      <td>Israel</td>\n",
       "      <td>0.407</td>\n",
       "    </tr>\n",
       "    <tr>\n",
       "      <th>13</th>\n",
       "      <td>Greece</td>\n",
       "      <td>0.383</td>\n",
       "    </tr>\n",
       "    <tr>\n",
       "      <th>14</th>\n",
       "      <td>Canada</td>\n",
       "      <td>0.201</td>\n",
       "    </tr>\n",
       "    <tr>\n",
       "      <th>15</th>\n",
       "      <td>Bulgaria</td>\n",
       "      <td>0.118</td>\n",
       "    </tr>\n",
       "    <tr>\n",
       "      <th>16</th>\n",
       "      <td>Hungary</td>\n",
       "      <td>0.115</td>\n",
       "    </tr>\n",
       "    <tr>\n",
       "      <th>17</th>\n",
       "      <td>Romania</td>\n",
       "      <td>0.091</td>\n",
       "    </tr>\n",
       "    <tr>\n",
       "      <th>18</th>\n",
       "      <td>Uruguay</td>\n",
       "      <td>0.088</td>\n",
       "    </tr>\n",
       "    <tr>\n",
       "      <th>19</th>\n",
       "      <td>Turkey</td>\n",
       "      <td>0.072</td>\n",
       "    </tr>\n",
       "    <tr>\n",
       "      <th>20</th>\n",
       "      <td>Georgia</td>\n",
       "      <td>0.066</td>\n",
       "    </tr>\n",
       "    <tr>\n",
       "      <th>21</th>\n",
       "      <td>Slovenia</td>\n",
       "      <td>0.063</td>\n",
       "    </tr>\n",
       "    <tr>\n",
       "      <th>22</th>\n",
       "      <td>Croatia</td>\n",
       "      <td>0.061</td>\n",
       "    </tr>\n",
       "    <tr>\n",
       "      <th>23</th>\n",
       "      <td>Mexico</td>\n",
       "      <td>0.061</td>\n",
       "    </tr>\n",
       "    <tr>\n",
       "      <th>24</th>\n",
       "      <td>England</td>\n",
       "      <td>0.053</td>\n",
       "    </tr>\n",
       "    <tr>\n",
       "      <th>25</th>\n",
       "      <td>Moldova</td>\n",
       "      <td>0.050</td>\n",
       "    </tr>\n",
       "    <tr>\n",
       "      <th>26</th>\n",
       "      <td>Brazil</td>\n",
       "      <td>0.039</td>\n",
       "    </tr>\n",
       "    <tr>\n",
       "      <th>27</th>\n",
       "      <td>Lebanon</td>\n",
       "      <td>0.029</td>\n",
       "    </tr>\n",
       "    <tr>\n",
       "      <th>28</th>\n",
       "      <td>Morocco</td>\n",
       "      <td>0.022</td>\n",
       "    </tr>\n",
       "    <tr>\n",
       "      <th>29</th>\n",
       "      <td>Peru</td>\n",
       "      <td>0.014</td>\n",
       "    </tr>\n",
       "    <tr>\n",
       "      <th>30</th>\n",
       "      <td>Ukraine</td>\n",
       "      <td>0.013</td>\n",
       "    </tr>\n",
       "    <tr>\n",
       "      <th>31</th>\n",
       "      <td>Czech Republic</td>\n",
       "      <td>0.010</td>\n",
       "    </tr>\n",
       "    <tr>\n",
       "      <th>32</th>\n",
       "      <td>Macedonia</td>\n",
       "      <td>0.010</td>\n",
       "    </tr>\n",
       "    <tr>\n",
       "      <th>33</th>\n",
       "      <td>Cyprus</td>\n",
       "      <td>0.009</td>\n",
       "    </tr>\n",
       "    <tr>\n",
       "      <th>34</th>\n",
       "      <td>India</td>\n",
       "      <td>0.007</td>\n",
       "    </tr>\n",
       "    <tr>\n",
       "      <th>35</th>\n",
       "      <td>Serbia</td>\n",
       "      <td>0.007</td>\n",
       "    </tr>\n",
       "    <tr>\n",
       "      <th>36</th>\n",
       "      <td>Switzerland</td>\n",
       "      <td>0.005</td>\n",
       "    </tr>\n",
       "    <tr>\n",
       "      <th>37</th>\n",
       "      <td>Luxembourg</td>\n",
       "      <td>0.004</td>\n",
       "    </tr>\n",
       "    <tr>\n",
       "      <th>38</th>\n",
       "      <td>Bosnia and Herzegovina</td>\n",
       "      <td>0.002</td>\n",
       "    </tr>\n",
       "    <tr>\n",
       "      <th>39</th>\n",
       "      <td>Armenia</td>\n",
       "      <td>0.002</td>\n",
       "    </tr>\n",
       "    <tr>\n",
       "      <th>40</th>\n",
       "      <td>Slovakia</td>\n",
       "      <td>0.001</td>\n",
       "    </tr>\n",
       "    <tr>\n",
       "      <th>41</th>\n",
       "      <td>China</td>\n",
       "      <td>0.001</td>\n",
       "    </tr>\n",
       "  </tbody>\n",
       "</table>\n",
       "</div>"
      ],
      "text/plain": [
       "                   Country  porcentaje\n",
       "0                       US      45.061\n",
       "1                   France      14.586\n",
       "2                    Italy      13.897\n",
       "3                    Spain       5.413\n",
       "4                 Portugal       4.039\n",
       "5                    Chile       3.705\n",
       "6                Argentina       3.142\n",
       "7                  Austria       2.275\n",
       "8                Australia       1.944\n",
       "9                  Germany       1.751\n",
       "10             New Zealand       1.113\n",
       "11            South Africa       1.072\n",
       "12                  Israel       0.407\n",
       "13                  Greece       0.383\n",
       "14                  Canada       0.201\n",
       "15                Bulgaria       0.118\n",
       "16                 Hungary       0.115\n",
       "17                 Romania       0.091\n",
       "18                 Uruguay       0.088\n",
       "19                  Turkey       0.072\n",
       "20                 Georgia       0.066\n",
       "21                Slovenia       0.063\n",
       "22                 Croatia       0.061\n",
       "23                  Mexico       0.061\n",
       "24                 England       0.053\n",
       "25                 Moldova       0.050\n",
       "26                  Brazil       0.039\n",
       "27                 Lebanon       0.029\n",
       "28                 Morocco       0.022\n",
       "29                    Peru       0.014\n",
       "30                 Ukraine       0.013\n",
       "31          Czech Republic       0.010\n",
       "32               Macedonia       0.010\n",
       "33                  Cyprus       0.009\n",
       "34                   India       0.007\n",
       "35                  Serbia       0.007\n",
       "36             Switzerland       0.005\n",
       "37              Luxembourg       0.004\n",
       "38  Bosnia and Herzegovina       0.002\n",
       "39                 Armenia       0.002\n",
       "40                Slovakia       0.001\n",
       "41                   China       0.001"
      ]
     },
     "execution_count": 8,
     "metadata": {},
     "output_type": "execute_result"
    }
   ],
   "source": [
    "# Paso 1\n",
    "freq_relativa = dataset['country'].value_counts(normalize=True)\n",
    "\n",
    "# Paso 2\n",
    "porcentajes = freq_relativa * 100\n",
    "\n",
    "# Paso 3\n",
    "porcentajes_df = porcentajes.rename_axis('Country').reset_index(name=\"porcentaje\")\n",
    "\n",
    "# Paso 4\n",
    "porcentajes_df['porcentaje'] = porcentajes_df['porcentaje'].round(3)\n",
    "\n",
    "porcentajes_df"
   ]
  },
  {
   "cell_type": "markdown",
   "id": "129f2737",
   "metadata": {},
   "source": [
    "### Columna \"country\" - pais. Análisis gráfico"
   ]
  },
  {
   "cell_type": "code",
   "execution_count": 9,
   "id": "717bcb91",
   "metadata": {},
   "outputs": [
    {
     "data": {
      "image/png": "[encoded data removed]",
      "text/plain": [
       "<Figure size 1300x600 with 1 Axes>"
      ]
     },
     "metadata": {},
     "output_type": "display_data"
    }
   ],
   "source": [
    "# Gráfico de barras\n",
    "\n",
    "conteo = dataset['country'].value_counts()\n",
    "colores = ['red', 'green', 'chocolate', 'pink', 'tomato']\n",
    "\n",
    "plt.figure(figsize=(13,6))\n",
    "conteo.plot(kind='bar', color=colores, width=0.9, alpha=0.5)\n",
    "\n",
    "plt.title(\"Gráfico de barras de la columna 'country'\")\n",
    "plt.ylabel('Conteo')\n",
    "plt.xlabel('Country')\n",
    "\n",
    "plt.show()"
   ]
  },
  {
   "cell_type": "markdown",
   "id": "37c983a7",
   "metadata": {},
   "source": [
    "A partir de los datos, se observa que 'US' es el pais que más cuenta con registros y vinos dentro de este dataset. Los datos para 'US' son superiores a todos los otros países. A 'US' le siguen los 4 principales y más reconocidos países de Europa en producción de vino 'France', 'Italy', 'Spain', 'Portugal'."
   ]
  },
  {
   "cell_type": "code",
   "execution_count": 10,
   "id": "73c48fd8",
   "metadata": {},
   "outputs": [],
   "source": [
    "porcentaje = dataset['country'].value_counts(normalize=True)\n",
    "porcentaje = porcentaje * 100"
   ]
  },
  {
   "cell_type": "code",
   "execution_count": 19,
   "id": "81c8d12a",
   "metadata": {},
   "outputs": [
    {
     "data": {
      "image/png": "[encoded data removed]",
      "text/plain": [
       "<Figure size 1300x600 with 1 Axes>"
      ]
     },
     "metadata": {},
     "output_type": "display_data"
    }
   ],
   "source": [
    "plt.figure(figsize=(13,6))\n",
    "porcentaje.plot(kind='bar', color=colores, alpha=0.6)\n",
    "\n",
    "plt.title(\"Bar Chart\")\n",
    "plt.ylabel(\"Porcentajes\")\n",
    "plt.show()"
   ]
  },
  {
   "cell_type": "markdown",
   "id": "b0d3db1c",
   "metadata": {},
   "source": [
    "### Columna \"Points\" - Puntos"
   ]
  },
  {
   "cell_type": "markdown",
   "id": "5eb7ed49",
   "metadata": {},
   "source": [
    "#### Media, Mediana y Moda"
   ]
  },
  {
   "cell_type": "code",
   "execution_count": 28,
   "id": "7c9d0056",
   "metadata": {},
   "outputs": [
    {
     "name": "stdout",
     "output_type": "stream",
     "text": [
      "La media es: 88.41367923258464\n",
      "La mediana es: 88.0\n",
      "La moda es: 0    87\n",
      "Name: points, dtype: int64\n"
     ]
    }
   ],
   "source": [
    "mean = dataset['points'].mean()\n",
    "median = dataset['points'].median()\n",
    "mode = dataset['points'].mode()\n",
    "print(f\"La media es: {mean}\")\n",
    "print(f\"La mediana es: {median}\")\n",
    "print(f\"La moda es: {mode}\")"
   ]
  },
  {
   "cell_type": "markdown",
   "id": "2a93e17f",
   "metadata": {},
   "source": [
    "#### Máximo valor,  Mínimo valor y rango"
   ]
  },
  {
   "cell_type": "code",
   "execution_count": 26,
   "id": "dfeec12e",
   "metadata": {},
   "outputs": [
    {
     "name": "stdout",
     "output_type": "stream",
     "text": [
      "La máxima puntuación es: 100\n"
     ]
    }
   ],
   "source": [
    "max_value = dataset['points'].max()\n",
    "print(f\"La máxima puntuación es: {max_value}\")"
   ]
  },
  {
   "cell_type": "code",
   "execution_count": 27,
   "id": "ad462ab3",
   "metadata": {},
   "outputs": [
    {
     "name": "stdout",
     "output_type": "stream",
     "text": [
      "La mínima puntuación es: 80\n"
     ]
    }
   ],
   "source": [
    "min_value = dataset['points'].min()\n",
    "print(f\"La mínima puntuación es: {min_value}\")"
   ]
  },
  {
   "cell_type": "code",
   "execution_count": 30,
   "id": "23136c75",
   "metadata": {},
   "outputs": [
    {
     "name": "stdout",
     "output_type": "stream",
     "text": [
      "El rango de los valroes de la puntuación es: 20\n"
     ]
    }
   ],
   "source": [
    "rango = max_value - min_value\n",
    "print(f\"El rango de los valroes de la puntuación es: {rango}\")"
   ]
  },
  {
   "cell_type": "markdown",
   "id": "a46d8851",
   "metadata": {},
   "source": [
    "Observase que las puntuaciones de los vinos varian de 80 a 100. Siendo 80 el valor más bajo definido para un vino y 100 el valor más alto."
   ]
  },
  {
   "cell_type": "markdown",
   "id": "e251c857",
   "metadata": {},
   "source": [
    "#### Varianza muestral"
   ]
  },
  {
   "cell_type": "code",
   "execution_count": 31,
   "id": "6a2dd96c",
   "metadata": {},
   "outputs": [
    {
     "name": "stdout",
     "output_type": "stream",
     "text": [
      "Varianza muestral:  9.608566084978625\n"
     ]
    }
   ],
   "source": [
    "varianza = dataset['points'].var()\n",
    "print('Varianza muestral: ', varianza)"
   ]
  },
  {
   "cell_type": "markdown",
   "id": "027a43fe",
   "metadata": {},
   "source": [
    "#### Varianza poblacional"
   ]
  },
  {
   "cell_type": "code",
   "execution_count": 32,
   "id": "453d51cf",
   "metadata": {},
   "outputs": [
    {
     "name": "stdout",
     "output_type": "stream",
     "text": [
      "varianza poblacional:  9.608479862326904\n"
     ]
    }
   ],
   "source": [
    "variaza_poblacional = dataset['points'].var(ddof=0)\n",
    "print('varianza poblacional: ', variaza_poblacional)"
   ]
  },
  {
   "cell_type": "markdown",
   "id": "3863c94e",
   "metadata": {},
   "source": [
    "### Columna \"Price\" - Precio"
   ]
  },
  {
   "cell_type": "markdown",
   "id": "212c6bd6",
   "metadata": {},
   "source": [
    "### Columna \"Variety\" - Variedad"
   ]
  },
  {
   "cell_type": "markdown",
   "id": "1202a807",
   "metadata": {},
   "source": [
    "### Columna \"title\" - titulo"
   ]
  },
  {
   "cell_type": "markdown",
   "id": "330c8418",
   "metadata": {},
   "source": []
  }
 ],
 "metadata": {
  "kernelspec": {
   "display_name": "eda_env",
   "language": "python",
   "name": "python3"
  },
  "language_info": {
   "codemirror_mode": {
    "name": "ipython",
    "version": 3
   },
   "file_extension": ".py",
   "mimetype": "text/x-python",
   "name": "python",
   "nbconvert_exporter": "python",
   "pygments_lexer": "ipython3",
   "version": "3.11.2"
  }
 },
 "nbformat": 4,
 "nbformat_minor": 5
}
