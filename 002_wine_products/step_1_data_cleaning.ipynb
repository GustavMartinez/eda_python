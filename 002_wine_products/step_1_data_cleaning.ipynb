{
 "cells": [
  {
   "cell_type": "markdown",
   "id": "12d482bc",
   "metadata": {},
   "source": [
    "# Limpieza y preparación de los datos\n",
    "&emsp;&emsp;_Limpeza e preparação de dados com pandas_"
   ]
  },
  {
   "cell_type": "markdown",
   "id": "a3189fa0",
   "metadata": {},
   "source": [
    "## Importar la libreria y cargar los datos\n",
    "&emsp;&emsp;_Importar a biblioteca e carregar os dados_"
   ]
  },
  {
   "cell_type": "code",
   "execution_count": 1,
   "id": "f0775537",
   "metadata": {},
   "outputs": [],
   "source": [
    "# Importar la libreria - Importar biblioteca\n",
    "\n",
    "import pandas as pd\n",
    "import matplotlib.pyplot as plt\n",
    "import seaborn as sns"
   ]
  },
  {
   "cell_type": "markdown",
   "id": "9aead54e",
   "metadata": {},
   "source": [
    "* Este dataset es sobre calificaciones, precios, países y calificaciones de diferentes vinos en el mundo.\n",
    "* _Este conjunto de dados é sobre pontuações, preços, países e avaliações de diferentes vinhos ao redor do mundo._"
   ]
  },
  {
   "cell_type": "code",
   "execution_count": 2,
   "id": "cd245a0f",
   "metadata": {},
   "outputs": [],
   "source": [
    "# Cargar el archivo csv como un dataframe en pandas\n",
    "# Carregar o arquivo CSV como um dataframe no pandas.\n",
    "\n",
    "original_dataset = pd.read_csv(\"./winemag-data-130k-v2_original.csv\")"
   ]
  },
  {
   "cell_type": "markdown",
   "id": "2a6fc85a",
   "metadata": {},
   "source": [
    "## Información sobre el dataset\n",
    "&emsp;&emsp;_Informações sobre o dataset_"
   ]
  },
  {
   "cell_type": "code",
   "execution_count": 3,
   "id": "5908b762",
   "metadata": {},
   "outputs": [
    {
     "name": "stdout",
     "output_type": "stream",
     "text": [
      "<class 'pandas.core.frame.DataFrame'>\n",
      "RangeIndex: 129971 entries, 0 to 129970\n",
      "Data columns (total 14 columns):\n",
      " #   Column                 Non-Null Count   Dtype  \n",
      "---  ------                 --------------   -----  \n",
      " 0   Unnamed: 0             129971 non-null  int64  \n",
      " 1   country                129908 non-null  object \n",
      " 2   description            129971 non-null  object \n",
      " 3   designation            92506 non-null   object \n",
      " 4   points                 129971 non-null  int64  \n",
      " 5   price                  120975 non-null  float64\n",
      " 6   province               129908 non-null  object \n",
      " 7   region_1               108724 non-null  object \n",
      " 8   region_2               50511 non-null   object \n",
      " 9   taster_name            103727 non-null  object \n",
      " 10  taster_twitter_handle  98758 non-null   object \n",
      " 11  title                  129971 non-null  object \n",
      " 12  variety                129970 non-null  object \n",
      " 13  winery                 129971 non-null  object \n",
      "dtypes: float64(1), int64(2), object(11)\n",
      "memory usage: 13.9+ MB\n"
     ]
    }
   ],
   "source": [
    "original_dataset.info()"
   ]
  },
  {
   "cell_type": "code",
   "execution_count": 4,
   "id": "f8403ff6",
   "metadata": {},
   "outputs": [
    {
     "data": {
      "text/html": [
       "<div>\n",
       "<style scoped>\n",
       "    .dataframe tbody tr th:only-of-type {\n",
       "        vertical-align: middle;\n",
       "    }\n",
       "\n",
       "    .dataframe tbody tr th {\n",
       "        vertical-align: top;\n",
       "    }\n",
       "\n",
       "    .dataframe thead th {\n",
       "        text-align: right;\n",
       "    }\n",
       "</style>\n",
       "<table border=\"1\" class=\"dataframe\">\n",
       "  <thead>\n",
       "    <tr style=\"text-align: right;\">\n",
       "      <th></th>\n",
       "      <th>Unnamed: 0</th>\n",
       "      <th>country</th>\n",
       "      <th>description</th>\n",
       "      <th>designation</th>\n",
       "      <th>points</th>\n",
       "      <th>price</th>\n",
       "      <th>province</th>\n",
       "      <th>region_1</th>\n",
       "      <th>region_2</th>\n",
       "      <th>taster_name</th>\n",
       "      <th>taster_twitter_handle</th>\n",
       "      <th>title</th>\n",
       "      <th>variety</th>\n",
       "      <th>winery</th>\n",
       "    </tr>\n",
       "  </thead>\n",
       "  <tbody>\n",
       "    <tr>\n",
       "      <th>0</th>\n",
       "      <td>0</td>\n",
       "      <td>Italy</td>\n",
       "      <td>Aromas include tropical fruit, broom, brimston...</td>\n",
       "      <td>Vulkà Bianco</td>\n",
       "      <td>87</td>\n",
       "      <td>NaN</td>\n",
       "      <td>Sicily &amp; Sardinia</td>\n",
       "      <td>Etna</td>\n",
       "      <td>NaN</td>\n",
       "      <td>Kerin O’Keefe</td>\n",
       "      <td>@kerinokeefe</td>\n",
       "      <td>Nicosia 2013 Vulkà Bianco  (Etna)</td>\n",
       "      <td>White Blend</td>\n",
       "      <td>Nicosia</td>\n",
       "    </tr>\n",
       "    <tr>\n",
       "      <th>1</th>\n",
       "      <td>1</td>\n",
       "      <td>Portugal</td>\n",
       "      <td>This is ripe and fruity, a wine that is smooth...</td>\n",
       "      <td>Avidagos</td>\n",
       "      <td>87</td>\n",
       "      <td>15.0</td>\n",
       "      <td>Douro</td>\n",
       "      <td>NaN</td>\n",
       "      <td>NaN</td>\n",
       "      <td>Roger Voss</td>\n",
       "      <td>@vossroger</td>\n",
       "      <td>Quinta dos Avidagos 2011 Avidagos Red (Douro)</td>\n",
       "      <td>Portuguese Red</td>\n",
       "      <td>Quinta dos Avidagos</td>\n",
       "    </tr>\n",
       "    <tr>\n",
       "      <th>2</th>\n",
       "      <td>2</td>\n",
       "      <td>US</td>\n",
       "      <td>Tart and snappy, the flavors of lime flesh and...</td>\n",
       "      <td>NaN</td>\n",
       "      <td>87</td>\n",
       "      <td>14.0</td>\n",
       "      <td>Oregon</td>\n",
       "      <td>Willamette Valley</td>\n",
       "      <td>Willamette Valley</td>\n",
       "      <td>Paul Gregutt</td>\n",
       "      <td>@paulgwine</td>\n",
       "      <td>Rainstorm 2013 Pinot Gris (Willamette Valley)</td>\n",
       "      <td>Pinot Gris</td>\n",
       "      <td>Rainstorm</td>\n",
       "    </tr>\n",
       "  </tbody>\n",
       "</table>\n",
       "</div>"
      ],
      "text/plain": [
       "   Unnamed: 0   country                                        description  \\\n",
       "0           0     Italy  Aromas include tropical fruit, broom, brimston...   \n",
       "1           1  Portugal  This is ripe and fruity, a wine that is smooth...   \n",
       "2           2        US  Tart and snappy, the flavors of lime flesh and...   \n",
       "\n",
       "    designation  points  price           province           region_1  \\\n",
       "0  Vulkà Bianco      87    NaN  Sicily & Sardinia               Etna   \n",
       "1      Avidagos      87   15.0              Douro                NaN   \n",
       "2           NaN      87   14.0             Oregon  Willamette Valley   \n",
       "\n",
       "            region_2    taster_name taster_twitter_handle  \\\n",
       "0                NaN  Kerin O’Keefe          @kerinokeefe   \n",
       "1                NaN     Roger Voss            @vossroger   \n",
       "2  Willamette Valley   Paul Gregutt           @paulgwine    \n",
       "\n",
       "                                           title         variety  \\\n",
       "0              Nicosia 2013 Vulkà Bianco  (Etna)     White Blend   \n",
       "1  Quinta dos Avidagos 2011 Avidagos Red (Douro)  Portuguese Red   \n",
       "2  Rainstorm 2013 Pinot Gris (Willamette Valley)      Pinot Gris   \n",
       "\n",
       "                winery  \n",
       "0              Nicosia  \n",
       "1  Quinta dos Avidagos  \n",
       "2            Rainstorm  "
      ]
     },
     "execution_count": 4,
     "metadata": {},
     "output_type": "execute_result"
    }
   ],
   "source": [
    "original_dataset.head(3)"
   ]
  },
  {
   "cell_type": "markdown",
   "id": "fc857d34",
   "metadata": {},
   "source": [
    "## Extraer variables de interés\n",
    "\n",
    "&emsp;&emsp;_Extrair variáveis de interésse_"
   ]
  },
  {
   "cell_type": "code",
   "execution_count": 59,
   "id": "d621843f",
   "metadata": {},
   "outputs": [],
   "source": [
    "dataset_objetivo = original_dataset.copy()"
   ]
  },
  {
   "cell_type": "code",
   "execution_count": 60,
   "id": "b2725332",
   "metadata": {},
   "outputs": [],
   "source": [
    "dataset_objetivo = dataset_objetivo[[\"country\", \"province\", \"points\", \"price\", \"variety\", \"title\"]]"
   ]
  },
  {
   "cell_type": "markdown",
   "id": "a515f77c",
   "metadata": {},
   "source": [
    "## Trabajando con valores nulos\n",
    "\n",
    "Primero, buscamos en el dataset para saber si existen valores nulos, y cuantos valores nulos hay en cada columna.\n",
    "\n",
    "&emsp;&emsp;_Trabalhando com valores nulos_\n",
    "\n",
    "Primeiro, verificamos no dataset se existem valores nulos e quantos valores nulos há em cada coluna."
   ]
  },
  {
   "cell_type": "code",
   "execution_count": 61,
   "id": "c9bb8720",
   "metadata": {},
   "outputs": [
    {
     "data": {
      "text/plain": [
       "country       63\n",
       "province      63\n",
       "points         0\n",
       "price       8996\n",
       "variety        1\n",
       "title          0\n",
       "dtype: int64"
      ]
     },
     "execution_count": 61,
     "metadata": {},
     "output_type": "execute_result"
    }
   ],
   "source": [
    "# Isnull() devuelve una tabla con valores de verdadero o falso.\n",
    "# .sum() usando esta función después de .isnull() devuelve la suma de los valores faltantes en cada columna. (Nuestro objetivo)\n",
    "\n",
    "# isnull() retorna uma tabela com valores verdadeiro ou falso.\n",
    "# .sum() usado após isnull() retorna a soma dos valores faltantes em cada coluna. (Nosso objetivo)\n",
    "\n",
    "dataset_objetivo.isnull().sum()"
   ]
  },
  {
   "cell_type": "code",
   "execution_count": 62,
   "id": "ffca9960",
   "metadata": {},
   "outputs": [],
   "source": [
    "dataset_objetivo.dropna(inplace=True)"
   ]
  },
  {
   "cell_type": "code",
   "execution_count": 63,
   "id": "051cb592",
   "metadata": {},
   "outputs": [
    {
     "data": {
      "text/plain": [
       "country     0\n",
       "province    0\n",
       "points      0\n",
       "price       0\n",
       "variety     0\n",
       "title       0\n",
       "dtype: int64"
      ]
     },
     "execution_count": 63,
     "metadata": {},
     "output_type": "execute_result"
    }
   ],
   "source": [
    "dataset_objetivo.isnull().sum()"
   ]
  },
  {
   "cell_type": "code",
   "execution_count": 64,
   "id": "42734629",
   "metadata": {},
   "outputs": [
    {
     "data": {
      "text/plain": [
       "(120915, 6)"
      ]
     },
     "execution_count": 64,
     "metadata": {},
     "output_type": "execute_result"
    }
   ],
   "source": [
    "dataset_objetivo.shape"
   ]
  },
  {
   "cell_type": "code",
   "execution_count": 65,
   "id": "4388424a",
   "metadata": {},
   "outputs": [
    {
     "data": {
      "text/html": [
       "<div>\n",
       "<style scoped>\n",
       "    .dataframe tbody tr th:only-of-type {\n",
       "        vertical-align: middle;\n",
       "    }\n",
       "\n",
       "    .dataframe tbody tr th {\n",
       "        vertical-align: top;\n",
       "    }\n",
       "\n",
       "    .dataframe thead th {\n",
       "        text-align: right;\n",
       "    }\n",
       "</style>\n",
       "<table border=\"1\" class=\"dataframe\">\n",
       "  <thead>\n",
       "    <tr style=\"text-align: right;\">\n",
       "      <th></th>\n",
       "      <th>country</th>\n",
       "      <th>province</th>\n",
       "      <th>points</th>\n",
       "      <th>price</th>\n",
       "      <th>variety</th>\n",
       "      <th>title</th>\n",
       "    </tr>\n",
       "  </thead>\n",
       "  <tbody>\n",
       "    <tr>\n",
       "      <th>1</th>\n",
       "      <td>Portugal</td>\n",
       "      <td>Douro</td>\n",
       "      <td>87</td>\n",
       "      <td>15.0</td>\n",
       "      <td>Portuguese Red</td>\n",
       "      <td>Quinta dos Avidagos 2011 Avidagos Red (Douro)</td>\n",
       "    </tr>\n",
       "    <tr>\n",
       "      <th>2</th>\n",
       "      <td>US</td>\n",
       "      <td>Oregon</td>\n",
       "      <td>87</td>\n",
       "      <td>14.0</td>\n",
       "      <td>Pinot Gris</td>\n",
       "      <td>Rainstorm 2013 Pinot Gris (Willamette Valley)</td>\n",
       "    </tr>\n",
       "    <tr>\n",
       "      <th>3</th>\n",
       "      <td>US</td>\n",
       "      <td>Michigan</td>\n",
       "      <td>87</td>\n",
       "      <td>13.0</td>\n",
       "      <td>Riesling</td>\n",
       "      <td>St. Julian 2013 Reserve Late Harvest Riesling ...</td>\n",
       "    </tr>\n",
       "    <tr>\n",
       "      <th>4</th>\n",
       "      <td>US</td>\n",
       "      <td>Oregon</td>\n",
       "      <td>87</td>\n",
       "      <td>65.0</td>\n",
       "      <td>Pinot Noir</td>\n",
       "      <td>Sweet Cheeks 2012 Vintner's Reserve Wild Child...</td>\n",
       "    </tr>\n",
       "    <tr>\n",
       "      <th>5</th>\n",
       "      <td>Spain</td>\n",
       "      <td>Northern Spain</td>\n",
       "      <td>87</td>\n",
       "      <td>15.0</td>\n",
       "      <td>Tempranillo-Merlot</td>\n",
       "      <td>Tandem 2011 Ars In Vitro Tempranillo-Merlot (N...</td>\n",
       "    </tr>\n",
       "    <tr>\n",
       "      <th>6</th>\n",
       "      <td>Italy</td>\n",
       "      <td>Sicily &amp; Sardinia</td>\n",
       "      <td>87</td>\n",
       "      <td>16.0</td>\n",
       "      <td>Frappato</td>\n",
       "      <td>Terre di Giurfo 2013 Belsito Frappato (Vittoria)</td>\n",
       "    </tr>\n",
       "    <tr>\n",
       "      <th>7</th>\n",
       "      <td>France</td>\n",
       "      <td>Alsace</td>\n",
       "      <td>87</td>\n",
       "      <td>24.0</td>\n",
       "      <td>Gewürztraminer</td>\n",
       "      <td>Trimbach 2012 Gewurztraminer (Alsace)</td>\n",
       "    </tr>\n",
       "    <tr>\n",
       "      <th>8</th>\n",
       "      <td>Germany</td>\n",
       "      <td>Rheinhessen</td>\n",
       "      <td>87</td>\n",
       "      <td>12.0</td>\n",
       "      <td>Gewürztraminer</td>\n",
       "      <td>Heinz Eifel 2013 Shine Gewürztraminer (Rheinhe...</td>\n",
       "    </tr>\n",
       "    <tr>\n",
       "      <th>9</th>\n",
       "      <td>France</td>\n",
       "      <td>Alsace</td>\n",
       "      <td>87</td>\n",
       "      <td>27.0</td>\n",
       "      <td>Pinot Gris</td>\n",
       "      <td>Jean-Baptiste Adam 2012 Les Natures Pinot Gris...</td>\n",
       "    </tr>\n",
       "    <tr>\n",
       "      <th>10</th>\n",
       "      <td>US</td>\n",
       "      <td>California</td>\n",
       "      <td>87</td>\n",
       "      <td>19.0</td>\n",
       "      <td>Cabernet Sauvignon</td>\n",
       "      <td>Kirkland Signature 2011 Mountain Cuvée Caberne...</td>\n",
       "    </tr>\n",
       "  </tbody>\n",
       "</table>\n",
       "</div>"
      ],
      "text/plain": [
       "     country           province  points  price             variety  \\\n",
       "1   Portugal              Douro      87   15.0      Portuguese Red   \n",
       "2         US             Oregon      87   14.0          Pinot Gris   \n",
       "3         US           Michigan      87   13.0            Riesling   \n",
       "4         US             Oregon      87   65.0          Pinot Noir   \n",
       "5      Spain     Northern Spain      87   15.0  Tempranillo-Merlot   \n",
       "6      Italy  Sicily & Sardinia      87   16.0            Frappato   \n",
       "7     France             Alsace      87   24.0      Gewürztraminer   \n",
       "8    Germany        Rheinhessen      87   12.0      Gewürztraminer   \n",
       "9     France             Alsace      87   27.0          Pinot Gris   \n",
       "10        US         California      87   19.0  Cabernet Sauvignon   \n",
       "\n",
       "                                                title  \n",
       "1       Quinta dos Avidagos 2011 Avidagos Red (Douro)  \n",
       "2       Rainstorm 2013 Pinot Gris (Willamette Valley)  \n",
       "3   St. Julian 2013 Reserve Late Harvest Riesling ...  \n",
       "4   Sweet Cheeks 2012 Vintner's Reserve Wild Child...  \n",
       "5   Tandem 2011 Ars In Vitro Tempranillo-Merlot (N...  \n",
       "6    Terre di Giurfo 2013 Belsito Frappato (Vittoria)  \n",
       "7               Trimbach 2012 Gewurztraminer (Alsace)  \n",
       "8   Heinz Eifel 2013 Shine Gewürztraminer (Rheinhe...  \n",
       "9   Jean-Baptiste Adam 2012 Les Natures Pinot Gris...  \n",
       "10  Kirkland Signature 2011 Mountain Cuvée Caberne...  "
      ]
     },
     "execution_count": 65,
     "metadata": {},
     "output_type": "execute_result"
    }
   ],
   "source": [
    "dataset_objetivo.head(10)"
   ]
  },
  {
   "cell_type": "markdown",
   "id": "2ba55634",
   "metadata": {},
   "source": [
    "## Trabajando con valores duplicados\n",
    "\n",
    "Para identificar valores duplicados, utilizamos el comando: .duplicate(), junto con el comando .sum(); estos devuelven la suma de las lineas duplicadas en el dataset.\n",
    "\n",
    "&emsp;&emsp;_Trabalhando com valorese duplicados_\n",
    "\n",
    "Para identificar valures duplicados, utilizamos o comando: .duplicate(), junto com o comando .sum(); esses comandos retornam a soma das linhas duplicadas no dataset."
   ]
  },
  {
   "cell_type": "code",
   "execution_count": 66,
   "id": "33215ee9",
   "metadata": {},
   "outputs": [
    {
     "data": {
      "text/plain": [
       "np.int64(9476)"
      ]
     },
     "execution_count": 66,
     "metadata": {},
     "output_type": "execute_result"
    }
   ],
   "source": [
    "dataset_objetivo.duplicated().sum()"
   ]
  },
  {
   "cell_type": "code",
   "execution_count": 67,
   "id": "9b889696",
   "metadata": {},
   "outputs": [],
   "source": [
    "dataset_objetivo = dataset_objetivo.drop_duplicates()"
   ]
  },
  {
   "cell_type": "code",
   "execution_count": 69,
   "id": "1c6a1c5e",
   "metadata": {},
   "outputs": [
    {
     "data": {
      "text/plain": [
       "np.int64(0)"
      ]
     },
     "execution_count": 69,
     "metadata": {},
     "output_type": "execute_result"
    }
   ],
   "source": [
    "dataset_objetivo.duplicated().sum()"
   ]
  },
  {
   "cell_type": "code",
   "execution_count": 70,
   "id": "e8ccc6ed",
   "metadata": {},
   "outputs": [
    {
     "data": {
      "text/plain": [
       "(111439, 6)"
      ]
     },
     "execution_count": 70,
     "metadata": {},
     "output_type": "execute_result"
    }
   ],
   "source": [
    "dataset_objetivo.shape"
   ]
  },
  {
   "cell_type": "code",
   "execution_count": 71,
   "id": "7bc74235",
   "metadata": {},
   "outputs": [
    {
     "data": {
      "text/html": [
       "<div>\n",
       "<style scoped>\n",
       "    .dataframe tbody tr th:only-of-type {\n",
       "        vertical-align: middle;\n",
       "    }\n",
       "\n",
       "    .dataframe tbody tr th {\n",
       "        vertical-align: top;\n",
       "    }\n",
       "\n",
       "    .dataframe thead th {\n",
       "        text-align: right;\n",
       "    }\n",
       "</style>\n",
       "<table border=\"1\" class=\"dataframe\">\n",
       "  <thead>\n",
       "    <tr style=\"text-align: right;\">\n",
       "      <th></th>\n",
       "      <th>country</th>\n",
       "      <th>province</th>\n",
       "      <th>points</th>\n",
       "      <th>price</th>\n",
       "      <th>variety</th>\n",
       "      <th>title</th>\n",
       "    </tr>\n",
       "  </thead>\n",
       "  <tbody>\n",
       "    <tr>\n",
       "      <th>1</th>\n",
       "      <td>Portugal</td>\n",
       "      <td>Douro</td>\n",
       "      <td>87</td>\n",
       "      <td>15.0</td>\n",
       "      <td>Portuguese Red</td>\n",
       "      <td>Quinta dos Avidagos 2011 Avidagos Red (Douro)</td>\n",
       "    </tr>\n",
       "    <tr>\n",
       "      <th>2</th>\n",
       "      <td>US</td>\n",
       "      <td>Oregon</td>\n",
       "      <td>87</td>\n",
       "      <td>14.0</td>\n",
       "      <td>Pinot Gris</td>\n",
       "      <td>Rainstorm 2013 Pinot Gris (Willamette Valley)</td>\n",
       "    </tr>\n",
       "    <tr>\n",
       "      <th>3</th>\n",
       "      <td>US</td>\n",
       "      <td>Michigan</td>\n",
       "      <td>87</td>\n",
       "      <td>13.0</td>\n",
       "      <td>Riesling</td>\n",
       "      <td>St. Julian 2013 Reserve Late Harvest Riesling ...</td>\n",
       "    </tr>\n",
       "    <tr>\n",
       "      <th>4</th>\n",
       "      <td>US</td>\n",
       "      <td>Oregon</td>\n",
       "      <td>87</td>\n",
       "      <td>65.0</td>\n",
       "      <td>Pinot Noir</td>\n",
       "      <td>Sweet Cheeks 2012 Vintner's Reserve Wild Child...</td>\n",
       "    </tr>\n",
       "    <tr>\n",
       "      <th>5</th>\n",
       "      <td>Spain</td>\n",
       "      <td>Northern Spain</td>\n",
       "      <td>87</td>\n",
       "      <td>15.0</td>\n",
       "      <td>Tempranillo-Merlot</td>\n",
       "      <td>Tandem 2011 Ars In Vitro Tempranillo-Merlot (N...</td>\n",
       "    </tr>\n",
       "    <tr>\n",
       "      <th>6</th>\n",
       "      <td>Italy</td>\n",
       "      <td>Sicily &amp; Sardinia</td>\n",
       "      <td>87</td>\n",
       "      <td>16.0</td>\n",
       "      <td>Frappato</td>\n",
       "      <td>Terre di Giurfo 2013 Belsito Frappato (Vittoria)</td>\n",
       "    </tr>\n",
       "    <tr>\n",
       "      <th>7</th>\n",
       "      <td>France</td>\n",
       "      <td>Alsace</td>\n",
       "      <td>87</td>\n",
       "      <td>24.0</td>\n",
       "      <td>Gewürztraminer</td>\n",
       "      <td>Trimbach 2012 Gewurztraminer (Alsace)</td>\n",
       "    </tr>\n",
       "    <tr>\n",
       "      <th>8</th>\n",
       "      <td>Germany</td>\n",
       "      <td>Rheinhessen</td>\n",
       "      <td>87</td>\n",
       "      <td>12.0</td>\n",
       "      <td>Gewürztraminer</td>\n",
       "      <td>Heinz Eifel 2013 Shine Gewürztraminer (Rheinhe...</td>\n",
       "    </tr>\n",
       "    <tr>\n",
       "      <th>9</th>\n",
       "      <td>France</td>\n",
       "      <td>Alsace</td>\n",
       "      <td>87</td>\n",
       "      <td>27.0</td>\n",
       "      <td>Pinot Gris</td>\n",
       "      <td>Jean-Baptiste Adam 2012 Les Natures Pinot Gris...</td>\n",
       "    </tr>\n",
       "    <tr>\n",
       "      <th>10</th>\n",
       "      <td>US</td>\n",
       "      <td>California</td>\n",
       "      <td>87</td>\n",
       "      <td>19.0</td>\n",
       "      <td>Cabernet Sauvignon</td>\n",
       "      <td>Kirkland Signature 2011 Mountain Cuvée Caberne...</td>\n",
       "    </tr>\n",
       "  </tbody>\n",
       "</table>\n",
       "</div>"
      ],
      "text/plain": [
       "     country           province  points  price             variety  \\\n",
       "1   Portugal              Douro      87   15.0      Portuguese Red   \n",
       "2         US             Oregon      87   14.0          Pinot Gris   \n",
       "3         US           Michigan      87   13.0            Riesling   \n",
       "4         US             Oregon      87   65.0          Pinot Noir   \n",
       "5      Spain     Northern Spain      87   15.0  Tempranillo-Merlot   \n",
       "6      Italy  Sicily & Sardinia      87   16.0            Frappato   \n",
       "7     France             Alsace      87   24.0      Gewürztraminer   \n",
       "8    Germany        Rheinhessen      87   12.0      Gewürztraminer   \n",
       "9     France             Alsace      87   27.0          Pinot Gris   \n",
       "10        US         California      87   19.0  Cabernet Sauvignon   \n",
       "\n",
       "                                                title  \n",
       "1       Quinta dos Avidagos 2011 Avidagos Red (Douro)  \n",
       "2       Rainstorm 2013 Pinot Gris (Willamette Valley)  \n",
       "3   St. Julian 2013 Reserve Late Harvest Riesling ...  \n",
       "4   Sweet Cheeks 2012 Vintner's Reserve Wild Child...  \n",
       "5   Tandem 2011 Ars In Vitro Tempranillo-Merlot (N...  \n",
       "6    Terre di Giurfo 2013 Belsito Frappato (Vittoria)  \n",
       "7               Trimbach 2012 Gewurztraminer (Alsace)  \n",
       "8   Heinz Eifel 2013 Shine Gewürztraminer (Rheinhe...  \n",
       "9   Jean-Baptiste Adam 2012 Les Natures Pinot Gris...  \n",
       "10  Kirkland Signature 2011 Mountain Cuvée Caberne...  "
      ]
     },
     "execution_count": 71,
     "metadata": {},
     "output_type": "execute_result"
    }
   ],
   "source": [
    "dataset_objetivo.head(10)"
   ]
  },
  {
   "cell_type": "markdown",
   "id": "0d9761dd",
   "metadata": {},
   "source": [
    "## Exportar dataset final"
   ]
  },
  {
   "cell_type": "code",
   "execution_count": 74,
   "id": "bc8e0b02",
   "metadata": {},
   "outputs": [],
   "source": [
    "dataset_objetivo.to_csv(\"wine_dataset_clean.csv\", index=False)"
   ]
  }
 ],
 "metadata": {
  "kernelspec": {
   "display_name": "eda_env",
   "language": "python",
   "name": "python3"
  },
  "language_info": {
   "codemirror_mode": {
    "name": "ipython",
    "version": 3
   },
   "file_extension": ".py",
   "mimetype": "text/x-python",
   "name": "python",
   "nbconvert_exporter": "python",
   "pygments_lexer": "ipython3",
   "version": "3.11.2"
  }
 },
 "nbformat": 4,
 "nbformat_minor": 5
}
